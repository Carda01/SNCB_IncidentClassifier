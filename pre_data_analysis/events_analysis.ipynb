{
 "cells": [
  {
   "cell_type": "markdown",
   "id": "7332f892",
   "metadata": {},
   "source": [
    "# Events analysis"
   ]
  },
  {
   "cell_type": "code",
   "execution_count": 1,
   "id": "208941c0",
   "metadata": {},
   "outputs": [],
   "source": [
    "import sys\n",
    "import os\n",
    "parent_folder_path = os.path.abspath(os.path.join(os.getcwd(), \"..\", \"utils\"))\n",
    "sys.path.append(parent_folder_path)\n",
    "from utils import arrify_string_columns, deep_copy\n",
    "data_folder = os.path.join(\"..\", \"data\")\n",
    "\n",
    "import numpy as np\n",
    "import math\n",
    "import pandas as pd\n",
    "import matplotlib.pyplot as plt\n",
    "from  matplotlib.ticker import MaxNLocator \n",
    "import seaborn as sns\n",
    "from collections import Counter"
   ]
  },
  {
   "cell_type": "code",
   "execution_count": 2,
   "id": "77838100",
   "metadata": {},
   "outputs": [],
   "source": [
    "original_df = pd.read_csv(os.path.join(data_folder, \"time_sorted_table.csv\"), sep=';', index_col=0)\n",
    "arrify_string_columns(original_df)"
   ]
  },
  {
   "cell_type": "markdown",
   "id": "241ab32c",
   "metadata": {},
   "source": [
    "## General analysis"
   ]
  },
  {
   "cell_type": "code",
   "execution_count": 3,
   "id": "6975411f",
   "metadata": {},
   "outputs": [],
   "source": [
    "df = deep_copy(original_df)\n",
    "\n",
    "df['num_events'] = df['events_sequence'].apply(lambda x: len(x))\n",
    "df['num_vehicles'] = df['vehicles_sequence'].apply(lambda x: len(set(x)))"
   ]
  },
  {
   "cell_type": "code",
   "execution_count": 4,
   "id": "b4324c2b",
   "metadata": {},
   "outputs": [
    {
     "name": "stdout",
     "output_type": "stream",
     "text": [
      "count    1011.000000\n",
      "mean      553.197824\n",
      "std       314.852092\n",
      "min        10.000000\n",
      "25%       307.500000\n",
      "50%       554.000000\n",
      "75%       746.000000\n",
      "max      2407.000000\n",
      "Name: num_events, dtype: float64\n",
      "\n",
      "count    1011.000000\n",
      "mean        1.748764\n",
      "std         0.724525\n",
      "min         1.000000\n",
      "25%         1.000000\n",
      "50%         2.000000\n",
      "75%         2.000000\n",
      "max         4.000000\n",
      "Name: num_vehicles, dtype: float64\n",
      "\n"
     ]
    }
   ],
   "source": [
    "print(df.num_events.describe())\n",
    "print()\n",
    "print(df.num_vehicles.describe())\n",
    "print()"
   ]
  },
  {
   "cell_type": "code",
   "execution_count": 5,
   "id": "4911c9ba",
   "metadata": {},
   "outputs": [
    {
     "data": {
      "text/html": [
       "<div>\n",
       "<style scoped>\n",
       "    .dataframe tbody tr th:only-of-type {\n",
       "        vertical-align: middle;\n",
       "    }\n",
       "\n",
       "    .dataframe tbody tr th {\n",
       "        vertical-align: top;\n",
       "    }\n",
       "\n",
       "    .dataframe thead th {\n",
       "        text-align: right;\n",
       "    }\n",
       "</style>\n",
       "<table border=\"1\" class=\"dataframe\">\n",
       "  <thead>\n",
       "    <tr style=\"text-align: right;\">\n",
       "      <th></th>\n",
       "      <th>incident_type</th>\n",
       "      <th>count</th>\n",
       "      <th>percentage</th>\n",
       "      <th>count_percentage_on_total</th>\n",
       "    </tr>\n",
       "  </thead>\n",
       "  <tbody>\n",
       "    <tr>\n",
       "      <th>0</th>\n",
       "      <td>2</td>\n",
       "      <td>119</td>\n",
       "      <td>11.770524</td>\n",
       "      <td>100.0</td>\n",
       "    </tr>\n",
       "    <tr>\n",
       "      <th>1</th>\n",
       "      <td>3</td>\n",
       "      <td>5</td>\n",
       "      <td>0.494560</td>\n",
       "      <td>100.0</td>\n",
       "    </tr>\n",
       "    <tr>\n",
       "      <th>2</th>\n",
       "      <td>4</td>\n",
       "      <td>78</td>\n",
       "      <td>7.715134</td>\n",
       "      <td>100.0</td>\n",
       "    </tr>\n",
       "    <tr>\n",
       "      <th>3</th>\n",
       "      <td>6</td>\n",
       "      <td>6</td>\n",
       "      <td>0.593472</td>\n",
       "      <td>100.0</td>\n",
       "    </tr>\n",
       "    <tr>\n",
       "      <th>4</th>\n",
       "      <td>7</td>\n",
       "      <td>4</td>\n",
       "      <td>0.395648</td>\n",
       "      <td>100.0</td>\n",
       "    </tr>\n",
       "    <tr>\n",
       "      <th>5</th>\n",
       "      <td>9</td>\n",
       "      <td>117</td>\n",
       "      <td>11.572700</td>\n",
       "      <td>100.0</td>\n",
       "    </tr>\n",
       "    <tr>\n",
       "      <th>6</th>\n",
       "      <td>11</td>\n",
       "      <td>26</td>\n",
       "      <td>2.571711</td>\n",
       "      <td>100.0</td>\n",
       "    </tr>\n",
       "    <tr>\n",
       "      <th>7</th>\n",
       "      <td>13</td>\n",
       "      <td>318</td>\n",
       "      <td>31.454006</td>\n",
       "      <td>100.0</td>\n",
       "    </tr>\n",
       "    <tr>\n",
       "      <th>8</th>\n",
       "      <td>14</td>\n",
       "      <td>149</td>\n",
       "      <td>14.737883</td>\n",
       "      <td>100.0</td>\n",
       "    </tr>\n",
       "    <tr>\n",
       "      <th>9</th>\n",
       "      <td>16</td>\n",
       "      <td>4</td>\n",
       "      <td>0.395648</td>\n",
       "      <td>100.0</td>\n",
       "    </tr>\n",
       "    <tr>\n",
       "      <th>10</th>\n",
       "      <td>17</td>\n",
       "      <td>10</td>\n",
       "      <td>0.989120</td>\n",
       "      <td>100.0</td>\n",
       "    </tr>\n",
       "    <tr>\n",
       "      <th>11</th>\n",
       "      <td>99</td>\n",
       "      <td>175</td>\n",
       "      <td>17.309594</td>\n",
       "      <td>100.0</td>\n",
       "    </tr>\n",
       "  </tbody>\n",
       "</table>\n",
       "</div>"
      ],
      "text/plain": [
       "    incident_type  count  percentage  count_percentage_on_total\n",
       "0               2    119   11.770524                      100.0\n",
       "1               3      5    0.494560                      100.0\n",
       "2               4     78    7.715134                      100.0\n",
       "3               6      6    0.593472                      100.0\n",
       "4               7      4    0.395648                      100.0\n",
       "5               9    117   11.572700                      100.0\n",
       "6              11     26    2.571711                      100.0\n",
       "7              13    318   31.454006                      100.0\n",
       "8              14    149   14.737883                      100.0\n",
       "9              16      4    0.395648                      100.0\n",
       "10             17     10    0.989120                      100.0\n",
       "11             99    175   17.309594                      100.0"
      ]
     },
     "execution_count": 5,
     "metadata": {},
     "output_type": "execute_result"
    }
   ],
   "source": [
    "\n",
    "def get_stats_incidents(dataframe):\n",
    "    stats_incidents = dataframe.groupby('incident_type').size().reset_index(name='count')\n",
    "    stats_incidents['percentage'] = (stats_incidents['count'] / len(dataframe)) * 100\n",
    "    original_stats = original_df.groupby('incident_type').size().reset_index(name='count_original')\n",
    "    stats_incidents = stats_incidents.merge(original_stats, how='inner', on='incident_type')\n",
    "    stats_incidents['count_percentage_on_total'] = stats_incidents['count']/stats_incidents['count_original'] * 100\n",
    "    stats_incidents = stats_incidents.drop('count_original', axis=1)\n",
    "    \n",
    "    return stats_incidents\n",
    "\n",
    "\n",
    "get_stats_incidents(original_df)"
   ]
  },
  {
   "cell_type": "code",
   "execution_count": 6,
   "id": "02d36357",
   "metadata": {},
   "outputs": [
    {
     "data": {
      "image/png": "[encoded data removed]",
      "text/plain": [
       "<Figure size 1500x500 with 2 Axes>"
      ]
     },
     "metadata": {},
     "output_type": "display_data"
    }
   ],
   "source": [
    "sns.set_theme(style=\"darkgrid\")\n",
    "fig, axs = plt.subplots(1, 2, figsize=(15, 5))\n",
    "sns.histplot(data=df, x=\"num_events\", bins=20, color='skyblue', ax=axs[0], kde=True)\n",
    "axs[1].xaxis.set_major_locator(MaxNLocator(integer=True))\n",
    "sns.histplot(data=df, x=\"num_vehicles\", color='olive', ax=axs[1])\n",
    "\n",
    "plt.show()"
   ]
  },
  {
   "cell_type": "markdown",
   "id": "87fd2c5e",
   "metadata": {},
   "source": [
    "## Electricity Analysis"
   ]
  },
  {
   "cell_type": "code",
   "execution_count": 7,
   "id": "f89d1b7c",
   "metadata": {},
   "outputs": [],
   "source": [
    "df[['both_true', 'both_false']] = df.apply(\n",
    "    lambda row: pd.Series({\n",
    "        'both_true': [r1 and r2 for r1, r2 in zip(row.dj_ac_state_sequence, row.dj_dc_state_sequence)],\n",
    "        'both_false': [not r1 and not r2 for r1, r2 in zip(row.dj_ac_state_sequence, row.dj_dc_state_sequence)]\n",
    "    }), \n",
    "    axis=1\n",
    ")"
   ]
  },
  {
   "cell_type": "markdown",
   "id": "f7ca8482",
   "metadata": {},
   "source": [
    "We can see that at any time no train is connected to both AC and DC"
   ]
  },
  {
   "cell_type": "code",
   "execution_count": 8,
   "id": "6828d4fe",
   "metadata": {},
   "outputs": [
    {
     "data": {
      "text/plain": [
       "0"
      ]
     },
     "execution_count": 8,
     "metadata": {},
     "output_type": "execute_result"
    }
   ],
   "source": [
    "df[df['both_true'].apply(lambda x: any(x))].size"
   ]
  },
  {
   "cell_type": "code",
   "execution_count": 9,
   "id": "add06540",
   "metadata": {},
   "outputs": [],
   "source": [
    "always_on_battery = deep_copy(df[df['both_false'].apply(lambda x: all(x))])"
   ]
  },
  {
   "cell_type": "code",
   "execution_count": 10,
   "id": "c47142ea",
   "metadata": {},
   "outputs": [
    {
     "data": {
      "text/html": [
       "<div>\n",
       "<style scoped>\n",
       "    .dataframe tbody tr th:only-of-type {\n",
       "        vertical-align: middle;\n",
       "    }\n",
       "\n",
       "    .dataframe tbody tr th {\n",
       "        vertical-align: top;\n",
       "    }\n",
       "\n",
       "    .dataframe thead th {\n",
       "        text-align: right;\n",
       "    }\n",
       "</style>\n",
       "<table border=\"1\" class=\"dataframe\">\n",
       "  <thead>\n",
       "    <tr style=\"text-align: right;\">\n",
       "      <th></th>\n",
       "      <th>incident_id</th>\n",
       "      <th>vehicles_sequence</th>\n",
       "      <th>events_sequence</th>\n",
       "      <th>seconds_to_incident_sequence</th>\n",
       "      <th>approx_lat</th>\n",
       "      <th>approx_lon</th>\n",
       "      <th>train_kph_sequence</th>\n",
       "      <th>dj_ac_state_sequence</th>\n",
       "      <th>dj_dc_state_sequence</th>\n",
       "      <th>incident_type</th>\n",
       "      <th>num_events</th>\n",
       "      <th>num_vehicles</th>\n",
       "      <th>both_true</th>\n",
       "      <th>both_false</th>\n",
       "    </tr>\n",
       "  </thead>\n",
       "  <tbody>\n",
       "    <tr>\n",
       "      <th>155</th>\n",
       "      <td>4440081</td>\n",
       "      <td>[1090, 1090, 1090, 1090, 1090, 1090, 1090, 109...</td>\n",
       "      <td>[2492, 3986, 4002, 1032, 1082, 1132, 2852, 411...</td>\n",
       "      <td>[-14344, -14291, -13960, -13960, -13960, -1396...</td>\n",
       "      <td>50.956162</td>\n",
       "      <td>5.091324</td>\n",
       "      <td>[0.0, 0.0, 0.0, 0.0, 0.0, 0.0, 0.0, 0.0, 0.0, ...</td>\n",
       "      <td>[False, False, False, False, False, False, Fal...</td>\n",
       "      <td>[False, False, False, False, False, False, Fal...</td>\n",
       "      <td>14</td>\n",
       "      <td>218</td>\n",
       "      <td>1</td>\n",
       "      <td>[False, False, False, False, False, False, Fal...</td>\n",
       "      <td>[True, True, True, True, True, True, True, Tru...</td>\n",
       "    </tr>\n",
       "    <tr>\n",
       "      <th>486</th>\n",
       "      <td>4455925</td>\n",
       "      <td>[704, 704, 704, 704, 704, 704, 704, 704, 704, ...</td>\n",
       "      <td>[4002, 2852, 4110, 2854, 4092, 4094, 4026, 270...</td>\n",
       "      <td>[-1820, -1818, -1818, -1816, -1815, -1815, -18...</td>\n",
       "      <td>50.894239</td>\n",
       "      <td>4.409328</td>\n",
       "      <td>[0.0, 0.0, 0.0, 0.0, 0.0, 0.0, 0.0, 0.0, 0.0, ...</td>\n",
       "      <td>[False, False, False, False, False, False, Fal...</td>\n",
       "      <td>[False, False, False, False, False, False, Fal...</td>\n",
       "      <td>14</td>\n",
       "      <td>78</td>\n",
       "      <td>1</td>\n",
       "      <td>[False, False, False, False, False, False, Fal...</td>\n",
       "      <td>[True, True, True, True, True, True, True, Tru...</td>\n",
       "    </tr>\n",
       "    <tr>\n",
       "      <th>621</th>\n",
       "      <td>4461601</td>\n",
       "      <td>[1047, 1047, 1047, 1047, 1047, 1047, 1047, 104...</td>\n",
       "      <td>[4396, 2288, 2462, 4394, 2464, 2288, 2742, 402...</td>\n",
       "      <td>[-12007, -11610, -11610, -11610, -11609, -1158...</td>\n",
       "      <td>49.678457</td>\n",
       "      <td>5.816943</td>\n",
       "      <td>[0.0, 0.0, 0.0, 0.0, 0.0, 0.0, 0.0, 0.0, 0.0, ...</td>\n",
       "      <td>[False, False, False, False, False, False, Fal...</td>\n",
       "      <td>[False, False, False, False, False, False, Fal...</td>\n",
       "      <td>99</td>\n",
       "      <td>344</td>\n",
       "      <td>1</td>\n",
       "      <td>[False, False, False, False, False, False, Fal...</td>\n",
       "      <td>[True, True, True, True, True, True, True, Tru...</td>\n",
       "    </tr>\n",
       "    <tr>\n",
       "      <th>759</th>\n",
       "      <td>4468195</td>\n",
       "      <td>[1027, 1027, 1027, 1027, 1027, 1027, 1027, 102...</td>\n",
       "      <td>[4004, 2852, 4110, 2854, 4092, 4094, 4026, 249...</td>\n",
       "      <td>[-13237, -13235, -13235, -13233, -13232, -1323...</td>\n",
       "      <td>50.618932</td>\n",
       "      <td>5.573920</td>\n",
       "      <td>[0.0, 0.0, 0.0, 0.0, 0.0, 0.0, 0.0, 0.0, 0.0, ...</td>\n",
       "      <td>[False, False, False, False, False, False, Fal...</td>\n",
       "      <td>[False, False, False, False, False, False, Fal...</td>\n",
       "      <td>14</td>\n",
       "      <td>78</td>\n",
       "      <td>1</td>\n",
       "      <td>[False, False, False, False, False, False, Fal...</td>\n",
       "      <td>[True, True, True, True, True, True, True, Tru...</td>\n",
       "    </tr>\n",
       "    <tr>\n",
       "      <th>825</th>\n",
       "      <td>4601001</td>\n",
       "      <td>[1009, 1009, 1009, 1009, 1009, 1009, 1009, 100...</td>\n",
       "      <td>[4002, 4032, 4028, 4026, 4110, 2852, 2854, 410...</td>\n",
       "      <td>[-7561, -7561, -7560, -7559, -7559, -7558, -75...</td>\n",
       "      <td>50.189588</td>\n",
       "      <td>5.953584</td>\n",
       "      <td>[0.0, 0.0, 0.0, 0.0, 0.0, 0.0, 0.0, 0.0, 0.0, ...</td>\n",
       "      <td>[False, False, False, False, False, False, Fal...</td>\n",
       "      <td>[False, False, False, False, False, False, Fal...</td>\n",
       "      <td>6</td>\n",
       "      <td>45</td>\n",
       "      <td>1</td>\n",
       "      <td>[False, False, False, False, False, False, Fal...</td>\n",
       "      <td>[True, True, True, True, True, True, True, Tru...</td>\n",
       "    </tr>\n",
       "    <tr>\n",
       "      <th>917</th>\n",
       "      <td>4606573</td>\n",
       "      <td>[650, 650, 650, 650, 650, 650, 650, 650, 650, ...</td>\n",
       "      <td>[4002, 4092, 4094, 2852, 4110, 2854, 4026, 398...</td>\n",
       "      <td>[-2445, -2444, -2444, -2442, -2442, -2440, -24...</td>\n",
       "      <td>51.012874</td>\n",
       "      <td>3.779166</td>\n",
       "      <td>[0.0, 0.0, 0.0, 0.0, 0.0, 0.0, 0.0, 0.0, 0.0, ...</td>\n",
       "      <td>[False, False, False, False, False, False, Fal...</td>\n",
       "      <td>[False, False, False, False, False, False, Fal...</td>\n",
       "      <td>99</td>\n",
       "      <td>119</td>\n",
       "      <td>1</td>\n",
       "      <td>[False, False, False, False, False, False, Fal...</td>\n",
       "      <td>[True, True, True, True, True, True, True, Tru...</td>\n",
       "    </tr>\n",
       "  </tbody>\n",
       "</table>\n",
       "</div>"
      ],
      "text/plain": [
       "     incident_id                                  vehicles_sequence  \\\n",
       "155      4440081  [1090, 1090, 1090, 1090, 1090, 1090, 1090, 109...   \n",
       "486      4455925  [704, 704, 704, 704, 704, 704, 704, 704, 704, ...   \n",
       "621      4461601  [1047, 1047, 1047, 1047, 1047, 1047, 1047, 104...   \n",
       "759      4468195  [1027, 1027, 1027, 1027, 1027, 1027, 1027, 102...   \n",
       "825      4601001  [1009, 1009, 1009, 1009, 1009, 1009, 1009, 100...   \n",
       "917      4606573  [650, 650, 650, 650, 650, 650, 650, 650, 650, ...   \n",
       "\n",
       "                                       events_sequence  \\\n",
       "155  [2492, 3986, 4002, 1032, 1082, 1132, 2852, 411...   \n",
       "486  [4002, 2852, 4110, 2854, 4092, 4094, 4026, 270...   \n",
       "621  [4396, 2288, 2462, 4394, 2464, 2288, 2742, 402...   \n",
       "759  [4004, 2852, 4110, 2854, 4092, 4094, 4026, 249...   \n",
       "825  [4002, 4032, 4028, 4026, 4110, 2852, 2854, 410...   \n",
       "917  [4002, 4092, 4094, 2852, 4110, 2854, 4026, 398...   \n",
       "\n",
       "                          seconds_to_incident_sequence  approx_lat  \\\n",
       "155  [-14344, -14291, -13960, -13960, -13960, -1396...   50.956162   \n",
       "486  [-1820, -1818, -1818, -1816, -1815, -1815, -18...   50.894239   \n",
       "621  [-12007, -11610, -11610, -11610, -11609, -1158...   49.678457   \n",
       "759  [-13237, -13235, -13235, -13233, -13232, -1323...   50.618932   \n",
       "825  [-7561, -7561, -7560, -7559, -7559, -7558, -75...   50.189588   \n",
       "917  [-2445, -2444, -2444, -2442, -2442, -2440, -24...   51.012874   \n",
       "\n",
       "     approx_lon                                 train_kph_sequence  \\\n",
       "155    5.091324  [0.0, 0.0, 0.0, 0.0, 0.0, 0.0, 0.0, 0.0, 0.0, ...   \n",
       "486    4.409328  [0.0, 0.0, 0.0, 0.0, 0.0, 0.0, 0.0, 0.0, 0.0, ...   \n",
       "621    5.816943  [0.0, 0.0, 0.0, 0.0, 0.0, 0.0, 0.0, 0.0, 0.0, ...   \n",
       "759    5.573920  [0.0, 0.0, 0.0, 0.0, 0.0, 0.0, 0.0, 0.0, 0.0, ...   \n",
       "825    5.953584  [0.0, 0.0, 0.0, 0.0, 0.0, 0.0, 0.0, 0.0, 0.0, ...   \n",
       "917    3.779166  [0.0, 0.0, 0.0, 0.0, 0.0, 0.0, 0.0, 0.0, 0.0, ...   \n",
       "\n",
       "                                  dj_ac_state_sequence  \\\n",
       "155  [False, False, False, False, False, False, Fal...   \n",
       "486  [False, False, False, False, False, False, Fal...   \n",
       "621  [False, False, False, False, False, False, Fal...   \n",
       "759  [False, False, False, False, False, False, Fal...   \n",
       "825  [False, False, False, False, False, False, Fal...   \n",
       "917  [False, False, False, False, False, False, Fal...   \n",
       "\n",
       "                                  dj_dc_state_sequence  incident_type  \\\n",
       "155  [False, False, False, False, False, False, Fal...             14   \n",
       "486  [False, False, False, False, False, False, Fal...             14   \n",
       "621  [False, False, False, False, False, False, Fal...             99   \n",
       "759  [False, False, False, False, False, False, Fal...             14   \n",
       "825  [False, False, False, False, False, False, Fal...              6   \n",
       "917  [False, False, False, False, False, False, Fal...             99   \n",
       "\n",
       "     num_events  num_vehicles  \\\n",
       "155         218             1   \n",
       "486          78             1   \n",
       "621         344             1   \n",
       "759          78             1   \n",
       "825          45             1   \n",
       "917         119             1   \n",
       "\n",
       "                                             both_true  \\\n",
       "155  [False, False, False, False, False, False, Fal...   \n",
       "486  [False, False, False, False, False, False, Fal...   \n",
       "621  [False, False, False, False, False, False, Fal...   \n",
       "759  [False, False, False, False, False, False, Fal...   \n",
       "825  [False, False, False, False, False, False, Fal...   \n",
       "917  [False, False, False, False, False, False, Fal...   \n",
       "\n",
       "                                            both_false  \n",
       "155  [True, True, True, True, True, True, True, Tru...  \n",
       "486  [True, True, True, True, True, True, True, Tru...  \n",
       "621  [True, True, True, True, True, True, True, Tru...  \n",
       "759  [True, True, True, True, True, True, True, Tru...  \n",
       "825  [True, True, True, True, True, True, True, Tru...  \n",
       "917  [True, True, True, True, True, True, True, Tru...  "
      ]
     },
     "execution_count": 10,
     "metadata": {},
     "output_type": "execute_result"
    }
   ],
   "source": [
    "df.loc[always_on_battery.index]"
   ]
  },
  {
   "cell_type": "code",
   "execution_count": 11,
   "id": "b28c0e94",
   "metadata": {},
   "outputs": [
    {
     "data": {
      "text/plain": [
       "155    [-3760, -3825, -3837, -3842, -3868, -3875, -38...\n",
       "486    [-26, -230, -230, -297, -305, -305, -321, -377...\n",
       "621    [3122, 1568, 1547, 1546, 1342, 1342, 1312, 130...\n",
       "759    [591, 401, 401, 398, 331, 330, 330, 314, 313, ...\n",
       "825    [-6305, -6305, -6354, -6372, -6423, -6428, -64...\n",
       "917    [1637, 1633, 1633, 1633, 1633, 1632, 1632, 163...\n",
       "Name: seconds_to_incident_sequence, dtype: object"
      ]
     },
     "execution_count": 11,
     "metadata": {},
     "output_type": "execute_result"
    }
   ],
   "source": [
    "always_on_battery.seconds_to_incident_sequence.map(lambda x: x[::-1])"
   ]
  },
  {
   "cell_type": "markdown",
   "id": "7245e917",
   "metadata": {},
   "source": [
    "## Events that stops logging before instant 0"
   ]
  },
  {
   "cell_type": "code",
   "execution_count": 12,
   "id": "f5e195c8",
   "metadata": {},
   "outputs": [],
   "source": [
    "def get_records_that_stopped_before_epsilon(dataframe, epsilon):\n",
    "    return dataframe[dataframe.apply(lambda x: x.seconds_to_incident_sequence[-1] < epsilon, axis=1)]"
   ]
  },
  {
   "cell_type": "code",
   "execution_count": 13,
   "id": "25ba1ae7",
   "metadata": {},
   "outputs": [
    {
     "name": "stdout",
     "output_type": "stream",
     "text": [
      "Number of rows that stopped logging from 1 seconds before the zero: 18\n",
      "Number of rows that stopped logging from 2 seconds before the zero: 18\n",
      "Number of rows that stopped logging from 4 seconds before the zero: 18\n",
      "Number of rows that stopped logging from 9 seconds before the zero: 18\n",
      "Number of rows that stopped logging from 19 seconds before the zero: 17\n",
      "Number of rows that stopped logging from 40 seconds before the zero: 16\n",
      "Number of rows that stopped logging from 86 seconds before the zero: 15\n",
      "Number of rows that stopped logging from 181 seconds before the zero: 12\n",
      "Number of rows that stopped logging from 380 seconds before the zero: 11\n",
      "Number of rows that stopped logging from 799 seconds before the zero: 9\n",
      "Number of rows that stopped logging from 1680 seconds before the zero: 6\n",
      "Number of rows that stopped logging from 3530 seconds before the zero: 4\n",
      "Number of rows that stopped logging from 7419 seconds before the zero: 1\n",
      "Number of rows that stopped logging from 13329 seconds before the zero: 0\n",
      "Number of rows that stopped logging from 16000 seconds before the zero: 0\n"
     ]
    },
    {
     "data": {
      "image/png": "[encoded data removed]",
      "text/plain": [
       "<Figure size 500x500 with 1 Axes>"
      ]
     },
     "metadata": {},
     "output_type": "display_data"
    }
   ],
   "source": [
    "records_stop_log_before_0 = get_records_that_stopped_before_epsilon(df, 0)\n",
    "last_second_logged = records_stop_log_before_0['seconds_to_incident_sequence'].apply(lambda x: -x[-1])\n",
    "\n",
    "bins = np.logspace(0, 15, num=15, base=2, dtype='int')\n",
    "bins[-2] = max(last_second_logged) + 1\n",
    "bins[-1] = 16000\n",
    "\n",
    "for epsilon in bins: \n",
    "    print(f\"Number of rows that stopped logging from {epsilon} seconds before the zero: {len(get_records_that_stopped_before_epsilon(df, -epsilon))}\")\n",
    "\n",
    "fig, ax = plt.subplots(figsize=(5, 5))\n",
    "ax.yaxis.set_major_locator(MaxNLocator(integer=True))\n",
    "plt.hist(last_second_logged, bins=bins, edgecolor='black', alpha=0.7, cumulative=-1)\n",
    "plt.show()"
   ]
  },
  {
   "cell_type": "markdown",
   "id": "ad8dd742",
   "metadata": {},
   "source": [
    "What shall we do with these records? \n",
    "\n",
    "We can see that they say nothing about the type of incident"
   ]
  },
  {
   "cell_type": "code",
   "execution_count": 14,
   "id": "eff26972",
   "metadata": {},
   "outputs": [
    {
     "data": {
      "text/html": [
       "<div>\n",
       "<style scoped>\n",
       "    .dataframe tbody tr th:only-of-type {\n",
       "        vertical-align: middle;\n",
       "    }\n",
       "\n",
       "    .dataframe tbody tr th {\n",
       "        vertical-align: top;\n",
       "    }\n",
       "\n",
       "    .dataframe thead th {\n",
       "        text-align: right;\n",
       "    }\n",
       "</style>\n",
       "<table border=\"1\" class=\"dataframe\">\n",
       "  <thead>\n",
       "    <tr style=\"text-align: right;\">\n",
       "      <th></th>\n",
       "      <th>incident_type</th>\n",
       "      <th>count</th>\n",
       "      <th>percentage</th>\n",
       "      <th>count_percentage_on_total</th>\n",
       "    </tr>\n",
       "  </thead>\n",
       "  <tbody>\n",
       "    <tr>\n",
       "      <th>0</th>\n",
       "      <td>4</td>\n",
       "      <td>1</td>\n",
       "      <td>10.0</td>\n",
       "      <td>1.282051</td>\n",
       "    </tr>\n",
       "    <tr>\n",
       "      <th>1</th>\n",
       "      <td>6</td>\n",
       "      <td>1</td>\n",
       "      <td>10.0</td>\n",
       "      <td>16.666667</td>\n",
       "    </tr>\n",
       "    <tr>\n",
       "      <th>2</th>\n",
       "      <td>13</td>\n",
       "      <td>1</td>\n",
       "      <td>10.0</td>\n",
       "      <td>0.314465</td>\n",
       "    </tr>\n",
       "    <tr>\n",
       "      <th>3</th>\n",
       "      <td>14</td>\n",
       "      <td>3</td>\n",
       "      <td>30.0</td>\n",
       "      <td>2.013423</td>\n",
       "    </tr>\n",
       "    <tr>\n",
       "      <th>4</th>\n",
       "      <td>99</td>\n",
       "      <td>4</td>\n",
       "      <td>40.0</td>\n",
       "      <td>2.285714</td>\n",
       "    </tr>\n",
       "  </tbody>\n",
       "</table>\n",
       "</div>"
      ],
      "text/plain": [
       "   incident_type  count  percentage  count_percentage_on_total\n",
       "0              4      1        10.0                   1.282051\n",
       "1              6      1        10.0                  16.666667\n",
       "2             13      1        10.0                   0.314465\n",
       "3             14      3        30.0                   2.013423\n",
       "4             99      4        40.0                   2.285714"
      ]
     },
     "execution_count": 14,
     "metadata": {},
     "output_type": "execute_result"
    }
   ],
   "source": [
    "get_stats_incidents(get_records_that_stopped_before_epsilon(df, -600))"
   ]
  },
  {
   "cell_type": "markdown",
   "id": "c7cfb9b5",
   "metadata": {},
   "source": [
    "## Speed analysis"
   ]
  },
  {
   "cell_type": "markdown",
   "id": "752a70d5",
   "metadata": {},
   "source": [
    "Delta lists of an attribute is the list that has for elements the difference between one element and its preceding one in the attribute list \n",
    "\n",
    "The element 0 is the initial value"
   ]
  },
  {
   "cell_type": "code",
   "execution_count": 15,
   "id": "2d07ada9",
   "metadata": {},
   "outputs": [],
   "source": [
    "def kph_to_ms(speed):\n",
    "    return speed/3.6\n",
    "\n",
    "\n",
    "def calculate_deltas(row):\n",
    "    deltas = list.copy(row)\n",
    "    for idx in range(len(row)):\n",
    "        if idx != 0:\n",
    "            deltas[idx] = row[idx] - row[idx - 1]\n",
    "    return deltas\n",
    "\n",
    "\n",
    "df['speed'] = df.train_kph_sequence.apply(lambda speeds: [kph_to_ms(speed) for speed in speeds])\n",
    "df['speed_delta'] = df.speed.apply(lambda speed: calculate_deltas(speed))\n",
    "df['time_delta'] = df.seconds_to_incident_sequence.apply(lambda time: calculate_deltas(time))"
   ]
  },
  {
   "cell_type": "markdown",
   "id": "421a791d",
   "metadata": {},
   "source": [
    "We calculate the acceleration as $\\frac{\\Delta v}{\\Delta t}$.\n",
    "\n",
    "If $\\Delta t = 0$ and $\\Delta v \\neq 0$ it means that there was a variation of speed in less than a second, we will specify with $\\epsilon$ the possible speed variation allowed after which we consider what we are seeing as an error and assign it an immensely high value for the acceleration, marking it as a possible error"
   ]
  },
  {
   "cell_type": "code",
   "execution_count": 16,
   "id": "8778c4f9",
   "metadata": {},
   "outputs": [],
   "source": [
    "MAX_ACCELERATION = 9_999_999_999_999\n",
    "\n",
    "def calculate_acceleration(delta_speed, delta_time):\n",
    "    epsilon = 5 \n",
    "    acceleration = 0.0\n",
    "    if delta_time != 0:\n",
    "        acceleration = delta_speed / delta_time\n",
    "    if delta_time == 0 and abs(delta_speed) > epsilon:\n",
    "        acceleration = MAX_ACCELERATION \n",
    "    return acceleration\n",
    "        \n",
    "\n",
    "df['acceleration'] = df.apply(\n",
    "    lambda row: [calculate_acceleration(speed, time) for speed, time in zip(row.speed_delta, row.time_delta)], \n",
    "    axis=1\n",
    ")\n",
    "\n",
    "df.acceleration = df.acceleration.apply(lambda row: row[1:])"
   ]
  },
  {
   "cell_type": "markdown",
   "id": "5aec63e7",
   "metadata": {},
   "source": [
    "We remove the first element of the acceleration, first because it has no meaning given that it is given by the division of the initial speed and time but also because in this way we are giving the acceleration meaning to the first value of each couple.\n",
    "\n",
    "So given elements $i$ and $i+1$, this will be satisfied: $v_{i+1} = v_{i} + a_i  \\Delta t_{i+1}$"
   ]
  },
  {
   "cell_type": "code",
   "execution_count": 17,
   "id": "123ad901",
   "metadata": {},
   "outputs": [
    {
     "name": "stdout",
     "output_type": "stream",
     "text": [
      "Number of speed errors but because of vehicle switch: 831\n",
      "Number of speed errors on the same vehicle: 19\n"
     ]
    },
    {
     "data": {
      "text/plain": [
       "[(381, 768, 1001, -10.0278),\n",
       " (913, 679, 658, -16.0278),\n",
       " (913, 680, 658, 15.9444),\n",
       " (913, 682, 658, -15.9722),\n",
       " (913, 729, 658, -14.3333),\n",
       " (913, 730, 658, 14.3333),\n",
       " (913, 741, 658, -7.3611),\n",
       " (913, 744, 658, 7.3611),\n",
       " (913, 766, 658, -7.4444),\n",
       " (913, 780, 658, -7.5556),\n",
       " (913, 799, 658, -8.0833),\n",
       " (913, 801, 658, 7.9722),\n",
       " (913, 802, 658, -7.9722),\n",
       " (913, 811, 658, -10.3056),\n",
       " (913, 813, 658, 10.1389),\n",
       " (913, 814, 658, -10.1389),\n",
       " (913, 831, 658, 11.1944),\n",
       " (913, 832, 658, -11.1944),\n",
       " (913, 833, 658, 11.1667)]"
      ]
     },
     "execution_count": 17,
     "metadata": {},
     "output_type": "execute_result"
    }
   ],
   "source": [
    "def get_indexes_max_acceleration(acceleration_list):\n",
    "    accelerations = np.array(acceleration_list)\n",
    "    return np.where(accelerations >= MAX_ACCELERATION)[0]\n",
    "\n",
    "\n",
    "speed_error_different_vehicles = []\n",
    "speed_error_same_vehicles = []\n",
    "\n",
    "for row_index, row in enumerate(df.acceleration.apply(get_indexes_max_acceleration)):\n",
    "    if row.size > 0:\n",
    "        for list_index in row:\n",
    "            tuple = df.loc[row_index]\n",
    "            if tuple.vehicles_sequence[list_index] == tuple.vehicles_sequence[list_index+1]:\n",
    "                speed_error_same_vehicles.append((row_index, list_index, tuple.vehicles_sequence[list_index], round(tuple.speed_delta[list_index+1], 4)))\n",
    "            else: \n",
    "                speed_error_different_vehicles.append((row_index, list_index, tuple.vehicles_sequence[list_index:list_index+2], round(tuple.speed_delta[list_index+1], 4)))\n",
    "\n",
    "\n",
    "print(f\"Number of speed errors but because of vehicle switch: {len(speed_error_different_vehicles)}\")\n",
    "print(f\"Number of speed errors on the same vehicle: {len(speed_error_same_vehicles)}\")\n",
    "speed_error_same_vehicles"
   ]
  },
  {
   "cell_type": "code",
   "execution_count": 18,
   "id": "b3c994f9",
   "metadata": {},
   "outputs": [],
   "source": [
    "def has_specific_acceleration_values(accelerations, comparing_function):\n",
    "    for acceleration_value in accelerations:\n",
    "        if comparing_function(acceleration_value):\n",
    "            return True\n",
    "    \n",
    "    return False\n",
    "\n",
    "\n",
    "def has_speed_over_threshold(accelerations, threshold):\n",
    "    return has_specific_acceleration_values(accelerations, lambda acc: acc >= threshold and acc < MAX_ACCELERATION)\n",
    "\n",
    "def has_speed_error(accelerations, threshold):\n",
    "    return has_specific_acceleration_values(accelerations, lambda acc: acc >= threshold)"
   ]
  },
  {
   "cell_type": "code",
   "execution_count": 19,
   "id": "1a38a2a1",
   "metadata": {},
   "outputs": [
    {
     "name": "stdout",
     "output_type": "stream",
     "text": [
      "    incident_type  count  percentage  count_percentage_on_total\n",
      "0               2     60   40.816327                  50.420168\n",
      "1               3      1    0.680272                  20.000000\n",
      "2               4     20   13.605442                  25.641026\n",
      "3               6      1    0.680272                  16.666667\n",
      "4               7      1    0.680272                  25.000000\n",
      "5               9     14    9.523810                  11.965812\n",
      "6              11      6    4.081633                  23.076923\n",
      "7              13     20   13.605442                   6.289308\n",
      "8              14     11    7.482993                   7.382550\n",
      "9              17      3    2.040816                  30.000000\n",
      "10             99     10    6.802721                   5.714286\n",
      "    incident_type  count  percentage  count_percentage_on_total\n",
      "0               2     60   42.857143                  50.420168\n",
      "1               3      1    0.714286                  20.000000\n",
      "2               4     21   15.000000                  26.923077\n",
      "3               6      1    0.714286                  16.666667\n",
      "4               7      1    0.714286                  25.000000\n",
      "5               9     13    9.285714                  11.111111\n",
      "6              11      7    5.000000                  26.923077\n",
      "7              13     19   13.571429                   5.974843\n",
      "8              14      7    5.000000                   4.697987\n",
      "9              17      3    2.142857                  30.000000\n",
      "10             99      7    5.000000                   4.000000\n"
     ]
    }
   ],
   "source": [
    "df_with_high_speed = df[df['acceleration'].apply(lambda x: has_speed_over_threshold(x, 10))]\n",
    "df_with_speed_error = df[df['acceleration'].apply(lambda x: has_speed_error(x, MAX_ACCELERATION))]\n",
    "print(get_stats_incidents(df_with_high_speed))\n",
    "print(get_stats_incidents(df_with_speed_error))"
   ]
  },
  {
   "cell_type": "markdown",
   "id": "8e458c9a",
   "metadata": {},
   "source": [
    "There seems to be a relation between trains that reach at a certain point high speed and trains that have speed errors!"
   ]
  },
  {
   "cell_type": "code",
   "execution_count": 20,
   "id": "5740cb8d",
   "metadata": {},
   "outputs": [],
   "source": [
    "def has_emergency_braking(accelerations, threshold):\n",
    "    for acceleration_value in accelerations:\n",
    "        if acceleration_value < threshold:\n",
    "            return True \n",
    "    return False\n",
    "\n",
    "\n",
    "def emergency_braking_id(accelerations, threshold):\n",
    "    positions = []\n",
    "    for i, acceleration_value in enumerate(accelerations):\n",
    "        if acceleration_value < threshold:\n",
    "            positions.append(i) \n",
    "\n",
    "    return positions\n",
    "\n",
    "g = -9.8\n",
    "ths = g*0.1\n",
    "events_correlated_with_emergency_braking = []\n",
    "\n",
    "for idx, row in enumerate(df.acceleration.apply(lambda x: emergency_braking_id(x, ths))):\n",
    "    if row == []:\n",
    "        continue\n",
    "    else:\n",
    "        for list_index in row:\n",
    "            tuple = df.loc[idx]\n",
    "            if tuple.vehicles_sequence[list_index] == tuple.vehicles_sequence[list_index+1] and tuple.train_kph_sequence[list_index+1] < 5:\n",
    "                #print(idx, id, tuple.events_sequence[id:id+2], tuple.vehicles_sequence[id:id+2], tuple.time_delta[id+1], tuple.train_kph_sequence[id:id+2], tuple.speed_delta[id+1])\n",
    "                events_correlated_with_emergency_braking.extend(tuple.events_sequence[list_index:list_index+2])\n",
    "\n",
    "            \n"
   ]
  },
  {
   "cell_type": "code",
   "execution_count": 21,
   "id": "fbde1bef",
   "metadata": {},
   "outputs": [],
   "source": [
    "all_events = []\n",
    "for i in df.events_sequence:\n",
    "    all_events.extend(i)\n",
    "\n",
    "event_counts = Counter(all_events)\n",
    "event_sorted_counts = dict(sorted(event_counts.items(), key=lambda item: item[1], reverse=True))"
   ]
  },
  {
   "cell_type": "code",
   "execution_count": 22,
   "id": "0f0f6022",
   "metadata": {},
   "outputs": [
    {
     "data": {
      "text/plain": [
       "{920: (0.25, 4),\n",
       " 146: (0.16666666666666666, 6),\n",
       " 922: (0.16666666666666666, 6),\n",
       " 946: (0.15789473684210525, 57),\n",
       " 962: (0.13333333333333333, 60),\n",
       " 882: (0.125, 8),\n",
       " 4080: (0.08742331288343558, 652),\n",
       " 134: (0.034482758620689655, 29),\n",
       " 2686: (0.0278503046127067, 1149),\n",
       " 3238: (0.02564102564102564, 78),\n",
       " 862: (0.02564102564102564, 39),\n",
       " 4180: (0.022310756972111555, 1255),\n",
       " 960: (0.0196078431372549, 102),\n",
       " 3240: (0.019417475728155338, 103),\n",
       " 2658: (0.008555133079847909, 1052),\n",
       " 3236: (0.008264462809917356, 605),\n",
       " 4070: (0.006666666666666667, 300),\n",
       " 4128: (0.0064516129032258064, 155),\n",
       " 380: (0.005952380952380952, 168),\n",
       " 4066: (0.0055608654096793815, 23018),\n",
       " 4068: (0.004574964053853862, 22951),\n",
       " 3254: (0.004408060453400504, 3176),\n",
       " 2688: (0.0027803521779425394, 1079),\n",
       " 984: (0.002398081534772182, 417),\n",
       " 3980: (0.0021645021645021645, 462),\n",
       " 4394: (0.0020905923344947735, 2870),\n",
       " 2940: (0.001722158438576349, 1742),\n",
       " 2684: (0.001589825119236884, 629),\n",
       " 3234: (0.0015873015873015873, 630),\n",
       " 4002: (0.001199040767386091, 834),\n",
       " 4396: (0.0011405759908753922, 3507),\n",
       " 3256: (0.0009737098344693282, 1027),\n",
       " 158: (0.0009090909090909091, 1100),\n",
       " 2682: (0.0008737439930100481, 2289),\n",
       " 2956: (0.0008014384793218598, 291975)}"
      ]
     },
     "execution_count": 22,
     "metadata": {},
     "output_type": "execute_result"
    }
   ],
   "source": [
    "counts = Counter(events_correlated_with_emergency_braking)\n",
    "frequency_counts = {}\n",
    "for i, k in counts.items():\n",
    "    frequency_counts[i] = (k / event_sorted_counts[i], event_sorted_counts[i])\n",
    "sorted_counts = dict(sorted(frequency_counts.items(), key=lambda item: item[1][0], reverse=True))\n",
    "sorted_counts"
   ]
  }
 ],
 "metadata": {
  "kernelspec": {
   "display_name": "Python 3",
   "language": "python",
   "name": "python3"
  },
  "language_info": {
   "codemirror_mode": {
    "name": "ipython",
    "version": 3
   },
   "file_extension": ".py",
   "mimetype": "text/x-python",
   "name": "python",
   "nbconvert_exporter": "python",
   "pygments_lexer": "ipython3",
   "version": "3.10.7"
  }
 },
 "nbformat": 4,
 "nbformat_minor": 5
}
