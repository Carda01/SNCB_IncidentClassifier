{
  "cells": [
    {
      "cell_type": "code",
      "execution_count": null,
      "metadata": {
        "colab": {
          "base_uri": "https://localhost:8080/"
        },
        "id": "eueWcTTr_MZu",
        "outputId": "8140dd66-b80f-4a18-ad19-dcf12193a31f"
      },
      "outputs": [
        {
          "output_type": "stream",
          "name": "stderr",
          "text": [
            "/usr/local/lib/python3.10/dist-packages/ipykernel/ipkernel.py:283: DeprecationWarning: `should_run_async` will not call `transform_cell` automatically in the future. Please pass the result to `transformed_cell` argument and any exception that happen during thetransform in `preprocessing_exc_tuple` in IPython 7.17 and above.\n",
            "  and should_run_async(code)\n"
          ]
        },
        {
          "output_type": "stream",
          "name": "stdout",
          "text": [
            "Drive already mounted at /content/drive; to attempt to forcibly remount, call drive.mount(\"/content/drive\", force_remount=True).\n"
          ]
        }
      ],
      "source": [
        "import pandas as pd\n",
        "import numpy as np\n",
        "import matplotlib.pyplot as plt\n",
        "from ast import literal_eval\n",
        "from sklearn.preprocessing import StandardScaler, LabelEncoder\n",
        "from tensorflow.keras.preprocessing.sequence import pad_sequences\n",
        "from tensorflow.keras.models import Sequential\n",
        "from tensorflow.keras.layers import Embedding, LSTM, Dense, Masking\n",
        "from tensorflow.keras.utils import to_categorical\n",
        "from google.colab import drive\n",
        "from collections import Counter\n",
        "from math import log\n",
        "import sys\n",
        "import seaborn as sns\n",
        "import matplotlib.pyplot as plt\n",
        "from  matplotlib.ticker import MaxNLocator\n",
        "drive.mount('/content/drive')\n"
      ]
    },
    {
      "cell_type": "code",
      "source": [
        "\n",
        "df = pd.read_csv('/content/drive/MyDrive/MASTER-BDMA-ULB/Data Mining/time_sorted_table.csv', delimiter=';', index_col=0)\n",
        "\n",
        "cols_to_transform = ['vehicles_sequence', 'events_sequence', 'seconds_to_incident_sequence',\n",
        "                     'train_kph_sequence', 'dj_ac_state_sequence', 'dj_dc_state_sequence']\n",
        "\n",
        "for col in cols_to_transform:\n",
        "    df[col] = df[col].apply(literal_eval)\n",
        "\n",
        "print(df.shape)\n",
        "\n"
      ],
      "metadata": {
        "colab": {
          "base_uri": "https://localhost:8080/"
        },
        "id": "L5HOfKLBKUlm",
        "outputId": "2e63de61-a9ea-492d-f5dc-b26d728bed88"
      },
      "execution_count": null,
      "outputs": [
        {
          "output_type": "stream",
          "name": "stderr",
          "text": [
            "/usr/local/lib/python3.10/dist-packages/ipykernel/ipkernel.py:283: DeprecationWarning: `should_run_async` will not call `transform_cell` automatically in the future. Please pass the result to `transformed_cell` argument and any exception that happen during thetransform in `preprocessing_exc_tuple` in IPython 7.17 and above.\n",
            "  and should_run_async(code)\n"
          ]
        },
        {
          "output_type": "stream",
          "name": "stdout",
          "text": [
            "(1011, 10)\n"
          ]
        }
      ]
    },
    {
      "cell_type": "code",
      "source": [
        "df.info()"
      ],
      "metadata": {
        "colab": {
          "base_uri": "https://localhost:8080/"
        },
        "id": "cQyEGP83pOlZ",
        "outputId": "08a0fd6b-e56b-4b1e-d1d6-6accdb81a0bb"
      },
      "execution_count": null,
      "outputs": [
        {
          "output_type": "stream",
          "name": "stdout",
          "text": [
            "<class 'pandas.core.frame.DataFrame'>\n",
            "Index: 1011 entries, 0 to 1010\n",
            "Data columns (total 10 columns):\n",
            " #   Column                        Non-Null Count  Dtype  \n",
            "---  ------                        --------------  -----  \n",
            " 0   incident_id                   1011 non-null   int64  \n",
            " 1   vehicles_sequence             1011 non-null   object \n",
            " 2   events_sequence               1011 non-null   object \n",
            " 3   seconds_to_incident_sequence  1011 non-null   object \n",
            " 4   approx_lat                    1011 non-null   float64\n",
            " 5   approx_lon                    1011 non-null   float64\n",
            " 6   train_kph_sequence            1011 non-null   object \n",
            " 7   dj_ac_state_sequence          1011 non-null   object \n",
            " 8   dj_dc_state_sequence          1011 non-null   object \n",
            " 9   incident_type                 1011 non-null   int64  \n",
            "dtypes: float64(2), int64(2), object(6)\n",
            "memory usage: 86.9+ KB\n"
          ]
        },
        {
          "output_type": "stream",
          "name": "stderr",
          "text": [
            "/usr/local/lib/python3.10/dist-packages/ipykernel/ipkernel.py:283: DeprecationWarning: `should_run_async` will not call `transform_cell` automatically in the future. Please pass the result to `transformed_cell` argument and any exception that happen during thetransform in `preprocessing_exc_tuple` in IPython 7.17 and above.\n",
            "  and should_run_async(code)\n"
          ]
        }
      ]
    },
    {
      "cell_type": "markdown",
      "source": [
        "# Data Preparation"
      ],
      "metadata": {
        "id": "1UEFyN0TZaAM"
      }
    },
    {
      "cell_type": "code",
      "source": [
        "total_rows = len(df)\n",
        "incident_counts = df['incident_type'].value_counts()\n",
        "\n",
        "\n",
        "print(incident_counts)\n"
      ],
      "metadata": {
        "id": "hr5N6F6vIxlH",
        "colab": {
          "base_uri": "https://localhost:8080/"
        },
        "outputId": "56e3d2a0-852e-46c5-9fd5-0942542d5a63"
      },
      "execution_count": null,
      "outputs": [
        {
          "output_type": "stream",
          "name": "stdout",
          "text": [
            "incident_type\n",
            "13    318\n",
            "99    175\n",
            "14    149\n",
            "2     119\n",
            "9     117\n",
            "4      78\n",
            "11     26\n",
            "17     10\n",
            "6       6\n",
            "3       5\n",
            "16      4\n",
            "7       4\n",
            "Name: count, dtype: int64\n"
          ]
        },
        {
          "output_type": "stream",
          "name": "stderr",
          "text": [
            "/usr/local/lib/python3.10/dist-packages/ipykernel/ipkernel.py:283: DeprecationWarning: `should_run_async` will not call `transform_cell` automatically in the future. Please pass the result to `transformed_cell` argument and any exception that happen during thetransform in `preprocessing_exc_tuple` in IPython 7.17 and above.\n",
            "  and should_run_async(code)\n"
          ]
        }
      ]
    },
    {
      "cell_type": "code",
      "source": [
        "min_occurrences = 50\n",
        "filtered_incident_types = incident_counts[incident_counts >= min_occurrences].index\n",
        "filtered_df = df[df['incident_type'].isin(filtered_incident_types)]\n",
        "print(filtered_df['incident_type'].value_counts())"
      ],
      "metadata": {
        "colab": {
          "base_uri": "https://localhost:8080/"
        },
        "id": "qhtjjSOLbNEO",
        "outputId": "f3db5507-196f-477e-e22e-082f8e9c6f63"
      },
      "execution_count": null,
      "outputs": [
        {
          "output_type": "stream",
          "name": "stdout",
          "text": [
            "incident_type\n",
            "13    318\n",
            "99    175\n",
            "14    149\n",
            "2     119\n",
            "9     117\n",
            "4      78\n",
            "Name: count, dtype: int64\n"
          ]
        },
        {
          "output_type": "stream",
          "name": "stderr",
          "text": [
            "/usr/local/lib/python3.10/dist-packages/ipykernel/ipkernel.py:283: DeprecationWarning: `should_run_async` will not call `transform_cell` automatically in the future. Please pass the result to `transformed_cell` argument and any exception that happen during thetransform in `preprocessing_exc_tuple` in IPython 7.17 and above.\n",
            "  and should_run_async(code)\n"
          ]
        }
      ]
    },
    {
      "cell_type": "code",
      "source": [
        "all_events = np.concatenate(df.events_sequence)\n",
        "\n",
        "event_counts = pd.DataFrame.from_dict(Counter(all_events), orient='index', columns=['counts_on_total'])\n",
        "event_counts = event_counts.reset_index(names='event').sort_values(by='counts_on_total', ascending=False)\n",
        "\n",
        "first_x = 9\n",
        "\n",
        "counts_first_x = event_counts[:first_x].copy()\n",
        "counts_others = pd.DataFrame(data = {\n",
        "    'event': [f'the other {event_counts.shape[0] - first_x} events'],\n",
        "    'counts_on_total': [event_counts.counts_on_total[first_x:].sum()]\n",
        "})\n",
        "\n",
        "def autopct_more_than_3(pct):\n",
        "    return ('%1.f%%' % pct) if pct > 3 else ''\n",
        "\n",
        "event_counts_summarized = pd.concat([counts_first_x, counts_others])\n",
        "colors = sns.color_palette('pastel')\n",
        "fig, ax = plt.subplots(figsize=(7, 7))\n",
        "plt.pie(event_counts_summarized.counts_on_total, autopct=autopct_more_than_3, colors=colors)\n",
        "ax.legend(event_counts_summarized.event, loc='best', bbox_to_anchor=(1,1))\n",
        "plt.show()\n",
        "\n",
        "display(event_counts)"
      ],
      "metadata": {
        "colab": {
          "base_uri": "https://localhost:8080/",
          "height": 1000
        },
        "id": "ORdwfpU-8ML5",
        "outputId": "07f6fd18-5921-4c2c-89ab-931646391aab"
      },
      "execution_count": null,
      "outputs": [
        {
          "output_type": "stream",
          "name": "stderr",
          "text": [
            "/usr/local/lib/python3.10/dist-packages/ipykernel/ipkernel.py:283: DeprecationWarning: `should_run_async` will not call `transform_cell` automatically in the future. Please pass the result to `transformed_cell` argument and any exception that happen during thetransform in `preprocessing_exc_tuple` in IPython 7.17 and above.\n",
            "  and should_run_async(code)\n"
          ]
        },
        {
          "output_type": "display_data",
          "data": {
            "text/plain": [
              "<Figure size 700x700 with 1 Axes>"
            ],
            "image/png": "[encoded data removed]"
          },
          "metadata": {}
        },
        {
          "output_type": "display_data",
          "data": {
            "text/plain": [
              "     event  counts_on_total\n",
              "78    2956           291975\n",
              "80    3658            26608\n",
              "79    3636            26491\n",
              "26    4066            23018\n",
              "23    4068            22951\n",
              "..     ...              ...\n",
              "835   4372                1\n",
              "837   2446                1\n",
              "839   1040                1\n",
              "811   3444                1\n",
              "812   3458                1\n",
              "\n",
              "[917 rows x 2 columns]"
            ],
            "text/html": [
              "\n",
              "  <div id=\"df-a06f8117-12e7-4279-a8c5-ff444b95a847\" class=\"colab-df-container\">\n",
              "    <div>\n",
              "<style scoped>\n",
              "    .dataframe tbody tr th:only-of-type {\n",
              "        vertical-align: middle;\n",
              "    }\n",
              "\n",
              "    .dataframe tbody tr th {\n",
              "        vertical-align: top;\n",
              "    }\n",
              "\n",
              "    .dataframe thead th {\n",
              "        text-align: right;\n",
              "    }\n",
              "</style>\n",
              "<table border=\"1\" class=\"dataframe\">\n",
              "  <thead>\n",
              "    <tr style=\"text-align: right;\">\n",
              "      <th></th>\n",
              "      <th>event</th>\n",
              "      <th>counts_on_total</th>\n",
              "    </tr>\n",
              "  </thead>\n",
              "  <tbody>\n",
              "    <tr>\n",
              "      <th>78</th>\n",
              "      <td>2956</td>\n",
              "      <td>291975</td>\n",
              "    </tr>\n",
              "    <tr>\n",
              "      <th>80</th>\n",
              "      <td>3658</td>\n",
              "      <td>26608</td>\n",
              "    </tr>\n",
              "    <tr>\n",
              "      <th>79</th>\n",
              "      <td>3636</td>\n",
              "      <td>26491</td>\n",
              "    </tr>\n",
              "    <tr>\n",
              "      <th>26</th>\n",
              "      <td>4066</td>\n",
              "      <td>23018</td>\n",
              "    </tr>\n",
              "    <tr>\n",
              "      <th>23</th>\n",
              "      <td>4068</td>\n",
              "      <td>22951</td>\n",
              "    </tr>\n",
              "    <tr>\n",
              "      <th>...</th>\n",
              "      <td>...</td>\n",
              "      <td>...</td>\n",
              "    </tr>\n",
              "    <tr>\n",
              "      <th>835</th>\n",
              "      <td>4372</td>\n",
              "      <td>1</td>\n",
              "    </tr>\n",
              "    <tr>\n",
              "      <th>837</th>\n",
              "      <td>2446</td>\n",
              "      <td>1</td>\n",
              "    </tr>\n",
              "    <tr>\n",
              "      <th>839</th>\n",
              "      <td>1040</td>\n",
              "      <td>1</td>\n",
              "    </tr>\n",
              "    <tr>\n",
              "      <th>811</th>\n",
              "      <td>3444</td>\n",
              "      <td>1</td>\n",
              "    </tr>\n",
              "    <tr>\n",
              "      <th>812</th>\n",
              "      <td>3458</td>\n",
              "      <td>1</td>\n",
              "    </tr>\n",
              "  </tbody>\n",
              "</table>\n",
              "<p>917 rows × 2 columns</p>\n",
              "</div>\n",
              "    <div class=\"colab-df-buttons\">\n",
              "\n",
              "  <div class=\"colab-df-container\">\n",
              "    <button class=\"colab-df-convert\" onclick=\"convertToInteractive('df-a06f8117-12e7-4279-a8c5-ff444b95a847')\"\n",
              "            title=\"Convert this dataframe to an interactive table.\"\n",
              "            style=\"display:none;\">\n",
              "\n",
              "  <svg xmlns=\"http://www.w3.org/2000/svg\" height=\"24px\" viewBox=\"0 -960 960 960\">\n",
              "    <path d=\"M120-120v-720h720v720H120Zm60-500h600v-160H180v160Zm220 220h160v-160H400v160Zm0 220h160v-160H400v160ZM180-400h160v-160H180v160Zm440 0h160v-160H620v160ZM180-180h160v-160H180v160Zm440 0h160v-160H620v160Z\"/>\n",
              "  </svg>\n",
              "    </button>\n",
              "\n",
              "  <style>\n",
              "    .colab-df-container {\n",
              "      display:flex;\n",
              "      gap: 12px;\n",
              "    }\n",
              "\n",
              "    .colab-df-convert {\n",
              "      background-color: #E8F0FE;\n",
              "      border: none;\n",
              "      border-radius: 50%;\n",
              "      cursor: pointer;\n",
              "      display: none;\n",
              "      fill: #1967D2;\n",
              "      height: 32px;\n",
              "      padding: 0 0 0 0;\n",
              "      width: 32px;\n",
              "    }\n",
              "\n",
              "    .colab-df-convert:hover {\n",
              "      background-color: #E2EBFA;\n",
              "      box-shadow: 0px 1px 2px rgba(60, 64, 67, 0.3), 0px 1px 3px 1px rgba(60, 64, 67, 0.15);\n",
              "      fill: #174EA6;\n",
              "    }\n",
              "\n",
              "    .colab-df-buttons div {\n",
              "      margin-bottom: 4px;\n",
              "    }\n",
              "\n",
              "    [theme=dark] .colab-df-convert {\n",
              "      background-color: #3B4455;\n",
              "      fill: #D2E3FC;\n",
              "    }\n",
              "\n",
              "    [theme=dark] .colab-df-convert:hover {\n",
              "      background-color: #434B5C;\n",
              "      box-shadow: 0px 1px 3px 1px rgba(0, 0, 0, 0.15);\n",
              "      filter: drop-shadow(0px 1px 2px rgba(0, 0, 0, 0.3));\n",
              "      fill: #FFFFFF;\n",
              "    }\n",
              "  </style>\n",
              "\n",
              "    <script>\n",
              "      const buttonEl =\n",
              "        document.querySelector('#df-a06f8117-12e7-4279-a8c5-ff444b95a847 button.colab-df-convert');\n",
              "      buttonEl.style.display =\n",
              "        google.colab.kernel.accessAllowed ? 'block' : 'none';\n",
              "\n",
              "      async function convertToInteractive(key) {\n",
              "        const element = document.querySelector('#df-a06f8117-12e7-4279-a8c5-ff444b95a847');\n",
              "        const dataTable =\n",
              "          await google.colab.kernel.invokeFunction('convertToInteractive',\n",
              "                                                    [key], {});\n",
              "        if (!dataTable) return;\n",
              "\n",
              "        const docLinkHtml = 'Like what you see? Visit the ' +\n",
              "          '<a target=\"_blank\" href=https://colab.research.google.com/notebooks/data_table.ipynb>data table notebook</a>'\n",
              "          + ' to learn more about interactive tables.';\n",
              "        element.innerHTML = '';\n",
              "        dataTable['output_type'] = 'display_data';\n",
              "        await google.colab.output.renderOutput(dataTable, element);\n",
              "        const docLink = document.createElement('div');\n",
              "        docLink.innerHTML = docLinkHtml;\n",
              "        element.appendChild(docLink);\n",
              "      }\n",
              "    </script>\n",
              "  </div>\n",
              "\n",
              "\n",
              "<div id=\"df-970b5918-7a26-481c-be55-46434cd80436\">\n",
              "  <button class=\"colab-df-quickchart\" onclick=\"quickchart('df-970b5918-7a26-481c-be55-46434cd80436')\"\n",
              "            title=\"Suggest charts\"\n",
              "            style=\"display:none;\">\n",
              "\n",
              "<svg xmlns=\"http://www.w3.org/2000/svg\" height=\"24px\"viewBox=\"0 0 24 24\"\n",
              "     width=\"24px\">\n",
              "    <g>\n",
              "        <path d=\"M19 3H5c-1.1 0-2 .9-2 2v14c0 1.1.9 2 2 2h14c1.1 0 2-.9 2-2V5c0-1.1-.9-2-2-2zM9 17H7v-7h2v7zm4 0h-2V7h2v10zm4 0h-2v-4h2v4z\"/>\n",
              "    </g>\n",
              "</svg>\n",
              "  </button>\n",
              "\n",
              "<style>\n",
              "  .colab-df-quickchart {\n",
              "      --bg-color: #E8F0FE;\n",
              "      --fill-color: #1967D2;\n",
              "      --hover-bg-color: #E2EBFA;\n",
              "      --hover-fill-color: #174EA6;\n",
              "      --disabled-fill-color: #AAA;\n",
              "      --disabled-bg-color: #DDD;\n",
              "  }\n",
              "\n",
              "  [theme=dark] .colab-df-quickchart {\n",
              "      --bg-color: #3B4455;\n",
              "      --fill-color: #D2E3FC;\n",
              "      --hover-bg-color: #434B5C;\n",
              "      --hover-fill-color: #FFFFFF;\n",
              "      --disabled-bg-color: #3B4455;\n",
              "      --disabled-fill-color: #666;\n",
              "  }\n",
              "\n",
              "  .colab-df-quickchart {\n",
              "    background-color: var(--bg-color);\n",
              "    border: none;\n",
              "    border-radius: 50%;\n",
              "    cursor: pointer;\n",
              "    display: none;\n",
              "    fill: var(--fill-color);\n",
              "    height: 32px;\n",
              "    padding: 0;\n",
              "    width: 32px;\n",
              "  }\n",
              "\n",
              "  .colab-df-quickchart:hover {\n",
              "    background-color: var(--hover-bg-color);\n",
              "    box-shadow: 0 1px 2px rgba(60, 64, 67, 0.3), 0 1px 3px 1px rgba(60, 64, 67, 0.15);\n",
              "    fill: var(--button-hover-fill-color);\n",
              "  }\n",
              "\n",
              "  .colab-df-quickchart-complete:disabled,\n",
              "  .colab-df-quickchart-complete:disabled:hover {\n",
              "    background-color: var(--disabled-bg-color);\n",
              "    fill: var(--disabled-fill-color);\n",
              "    box-shadow: none;\n",
              "  }\n",
              "\n",
              "  .colab-df-spinner {\n",
              "    border: 2px solid var(--fill-color);\n",
              "    border-color: transparent;\n",
              "    border-bottom-color: var(--fill-color);\n",
              "    animation:\n",
              "      spin 1s steps(1) infinite;\n",
              "  }\n",
              "\n",
              "  @keyframes spin {\n",
              "    0% {\n",
              "      border-color: transparent;\n",
              "      border-bottom-color: var(--fill-color);\n",
              "      border-left-color: var(--fill-color);\n",
              "    }\n",
              "    20% {\n",
              "      border-color: transparent;\n",
              "      border-left-color: var(--fill-color);\n",
              "      border-top-color: var(--fill-color);\n",
              "    }\n",
              "    30% {\n",
              "      border-color: transparent;\n",
              "      border-left-color: var(--fill-color);\n",
              "      border-top-color: var(--fill-color);\n",
              "      border-right-color: var(--fill-color);\n",
              "    }\n",
              "    40% {\n",
              "      border-color: transparent;\n",
              "      border-right-color: var(--fill-color);\n",
              "      border-top-color: var(--fill-color);\n",
              "    }\n",
              "    60% {\n",
              "      border-color: transparent;\n",
              "      border-right-color: var(--fill-color);\n",
              "    }\n",
              "    80% {\n",
              "      border-color: transparent;\n",
              "      border-right-color: var(--fill-color);\n",
              "      border-bottom-color: var(--fill-color);\n",
              "    }\n",
              "    90% {\n",
              "      border-color: transparent;\n",
              "      border-bottom-color: var(--fill-color);\n",
              "    }\n",
              "  }\n",
              "</style>\n",
              "\n",
              "  <script>\n",
              "    async function quickchart(key) {\n",
              "      const quickchartButtonEl =\n",
              "        document.querySelector('#' + key + ' button');\n",
              "      quickchartButtonEl.disabled = true;  // To prevent multiple clicks.\n",
              "      quickchartButtonEl.classList.add('colab-df-spinner');\n",
              "      try {\n",
              "        const charts = await google.colab.kernel.invokeFunction(\n",
              "            'suggestCharts', [key], {});\n",
              "      } catch (error) {\n",
              "        console.error('Error during call to suggestCharts:', error);\n",
              "      }\n",
              "      quickchartButtonEl.classList.remove('colab-df-spinner');\n",
              "      quickchartButtonEl.classList.add('colab-df-quickchart-complete');\n",
              "    }\n",
              "    (() => {\n",
              "      let quickchartButtonEl =\n",
              "        document.querySelector('#df-970b5918-7a26-481c-be55-46434cd80436 button');\n",
              "      quickchartButtonEl.style.display =\n",
              "        google.colab.kernel.accessAllowed ? 'block' : 'none';\n",
              "    })();\n",
              "  </script>\n",
              "</div>\n",
              "\n",
              "  <div id=\"id_0e836fe1-95b9-4473-962d-829c784b6a48\">\n",
              "    <style>\n",
              "      .colab-df-generate {\n",
              "        background-color: #E8F0FE;\n",
              "        border: none;\n",
              "        border-radius: 50%;\n",
              "        cursor: pointer;\n",
              "        display: none;\n",
              "        fill: #1967D2;\n",
              "        height: 32px;\n",
              "        padding: 0 0 0 0;\n",
              "        width: 32px;\n",
              "      }\n",
              "\n",
              "      .colab-df-generate:hover {\n",
              "        background-color: #E2EBFA;\n",
              "        box-shadow: 0px 1px 2px rgba(60, 64, 67, 0.3), 0px 1px 3px 1px rgba(60, 64, 67, 0.15);\n",
              "        fill: #174EA6;\n",
              "      }\n",
              "\n",
              "      [theme=dark] .colab-df-generate {\n",
              "        background-color: #3B4455;\n",
              "        fill: #D2E3FC;\n",
              "      }\n",
              "\n",
              "      [theme=dark] .colab-df-generate:hover {\n",
              "        background-color: #434B5C;\n",
              "        box-shadow: 0px 1px 3px 1px rgba(0, 0, 0, 0.15);\n",
              "        filter: drop-shadow(0px 1px 2px rgba(0, 0, 0, 0.3));\n",
              "        fill: #FFFFFF;\n",
              "      }\n",
              "    </style>\n",
              "    <button class=\"colab-df-generate\" onclick=\"generateWithVariable('event_counts')\"\n",
              "            title=\"Generate code using this dataframe.\"\n",
              "            style=\"display:none;\">\n",
              "\n",
              "  <svg xmlns=\"http://www.w3.org/2000/svg\" height=\"24px\"viewBox=\"0 0 24 24\"\n",
              "       width=\"24px\">\n",
              "    <path d=\"M7,19H8.4L18.45,9,17,7.55,7,17.6ZM5,21V16.75L18.45,3.32a2,2,0,0,1,2.83,0l1.4,1.43a1.91,1.91,0,0,1,.58,1.4,1.91,1.91,0,0,1-.58,1.4L9.25,21ZM18.45,9,17,7.55Zm-12,3A5.31,5.31,0,0,0,4.9,8.1,5.31,5.31,0,0,0,1,6.5,5.31,5.31,0,0,0,4.9,4.9,5.31,5.31,0,0,0,6.5,1,5.31,5.31,0,0,0,8.1,4.9,5.31,5.31,0,0,0,12,6.5,5.46,5.46,0,0,0,6.5,12Z\"/>\n",
              "  </svg>\n",
              "    </button>\n",
              "    <script>\n",
              "      (() => {\n",
              "      const buttonEl =\n",
              "        document.querySelector('#id_0e836fe1-95b9-4473-962d-829c784b6a48 button.colab-df-generate');\n",
              "      buttonEl.style.display =\n",
              "        google.colab.kernel.accessAllowed ? 'block' : 'none';\n",
              "\n",
              "      buttonEl.onclick = () => {\n",
              "        google.colab.notebook.generateWithVariable('event_counts');\n",
              "      }\n",
              "      })();\n",
              "    </script>\n",
              "  </div>\n",
              "\n",
              "    </div>\n",
              "  </div>\n"
            ],
            "application/vnd.google.colaboratory.intrinsic+json": {
              "type": "dataframe",
              "variable_name": "event_counts",
              "summary": "{\n  \"name\": \"event_counts\",\n  \"rows\": 917,\n  \"fields\": [\n    {\n      \"column\": \"event\",\n      \"properties\": {\n        \"dtype\": \"number\",\n        \"std\": 1228,\n        \"min\": 10,\n        \"max\": 4420,\n        \"num_unique_values\": 917,\n        \"samples\": [\n          2514,\n          4152,\n          1792\n        ],\n        \"semantic_type\": \"\",\n        \"description\": \"\"\n      }\n    },\n    {\n      \"column\": \"counts_on_total\",\n      \"properties\": {\n        \"dtype\": \"number\",\n        \"std\": 9799,\n        \"min\": 1,\n        \"max\": 291975,\n        \"num_unique_values\": 225,\n        \"samples\": [\n          6166,\n          41,\n          155\n        ],\n        \"semantic_type\": \"\",\n        \"description\": \"\"\n      }\n    }\n  ]\n}"
            }
          },
          "metadata": {}
        }
      ]
    },
    {
      "cell_type": "code",
      "source": [
        "high_frequency_event = 2956\n",
        "\n",
        "filtered_df['events_sequence'] = filtered_df.events_sequence.apply(\n",
        "    lambda sequence: [event for event in sequence if event != high_frequency_event]\n",
        ")\n"
      ],
      "metadata": {
        "colab": {
          "base_uri": "https://localhost:8080/"
        },
        "id": "_l3BIUzR8XIa",
        "outputId": "741445c9-cb52-481d-ed28-34a0be2dfa82"
      },
      "execution_count": null,
      "outputs": [
        {
          "output_type": "stream",
          "name": "stderr",
          "text": [
            "/usr/local/lib/python3.10/dist-packages/ipykernel/ipkernel.py:283: DeprecationWarning: `should_run_async` will not call `transform_cell` automatically in the future. Please pass the result to `transformed_cell` argument and any exception that happen during thetransform in `preprocessing_exc_tuple` in IPython 7.17 and above.\n",
            "  and should_run_async(code)\n",
            "<ipython-input-60-8457fd9ef786>:3: SettingWithCopyWarning: \n",
            "A value is trying to be set on a copy of a slice from a DataFrame.\n",
            "Try using .loc[row_indexer,col_indexer] = value instead\n",
            "\n",
            "See the caveats in the documentation: https://pandas.pydata.org/pandas-docs/stable/user_guide/indexing.html#returning-a-view-versus-a-copy\n",
            "  filtered_df['events_sequence'] = filtered_df.events_sequence.apply(\n"
          ]
        }
      ]
    },
    {
      "cell_type": "code",
      "source": [
        "def drop_records_stopped_before_epsilon(dataframe, epsilon):\n",
        "    return dataframe[dataframe.apply(lambda x: x.seconds_to_incident_sequence[-1] >= -epsilon, axis=1)]"
      ],
      "metadata": {
        "id": "E85fiNGcZf7C",
        "colab": {
          "base_uri": "https://localhost:8080/"
        },
        "outputId": "a398aa11-3d20-4a03-92b8-8e86d49b0e0f"
      },
      "execution_count": null,
      "outputs": [
        {
          "output_type": "stream",
          "name": "stderr",
          "text": [
            "/usr/local/lib/python3.10/dist-packages/ipykernel/ipkernel.py:283: DeprecationWarning: `should_run_async` will not call `transform_cell` automatically in the future. Please pass the result to `transformed_cell` argument and any exception that happen during thetransform in `preprocessing_exc_tuple` in IPython 7.17 and above.\n",
            "  and should_run_async(code)\n"
          ]
        }
      ]
    },
    {
      "cell_type": "code",
      "source": [
        "print(f\"Original number of rows: {len(filtered_df)}\")\n",
        "\n",
        "filtered_df = drop_records_stopped_before_epsilon(filtered_df, 181)\n",
        "print(f\"Number of rows after filtering: {len(filtered_df)}\")\n"
      ],
      "metadata": {
        "colab": {
          "base_uri": "https://localhost:8080/"
        },
        "id": "sOzXvmC2ascC",
        "outputId": "ac658d1e-cb85-4578-a63c-379246a5fe46"
      },
      "execution_count": null,
      "outputs": [
        {
          "output_type": "stream",
          "name": "stdout",
          "text": [
            "Original number of rows: 956\n",
            "Number of rows after filtering: 945\n"
          ]
        },
        {
          "output_type": "stream",
          "name": "stderr",
          "text": [
            "/usr/local/lib/python3.10/dist-packages/ipykernel/ipkernel.py:283: DeprecationWarning: `should_run_async` will not call `transform_cell` automatically in the future. Please pass the result to `transformed_cell` argument and any exception that happen during thetransform in `preprocessing_exc_tuple` in IPython 7.17 and above.\n",
            "  and should_run_async(code)\n"
          ]
        }
      ]
    },
    {
      "cell_type": "code",
      "source": [
        "print(filtered_df['incident_type'].unique())"
      ],
      "metadata": {
        "colab": {
          "base_uri": "https://localhost:8080/"
        },
        "id": "o8j6ndDskVZm",
        "outputId": "3da72fd6-f320-424b-8b1f-09282d927b4c"
      },
      "execution_count": null,
      "outputs": [
        {
          "output_type": "stream",
          "name": "stdout",
          "text": [
            "[ 4 13 14  2 99  9]\n"
          ]
        },
        {
          "output_type": "stream",
          "name": "stderr",
          "text": [
            "/usr/local/lib/python3.10/dist-packages/ipykernel/ipkernel.py:283: DeprecationWarning: `should_run_async` will not call `transform_cell` automatically in the future. Please pass the result to `transformed_cell` argument and any exception that happen during thetransform in `preprocessing_exc_tuple` in IPython 7.17 and above.\n",
            "  and should_run_async(code)\n"
          ]
        }
      ]
    },
    {
      "cell_type": "code",
      "source": [
        "pip install mlxtend"
      ],
      "metadata": {
        "colab": {
          "base_uri": "https://localhost:8080/"
        },
        "id": "D057tBdRjzzB",
        "outputId": "ff1f1b55-77bf-45bf-d1cc-b7ca19bc855f"
      },
      "execution_count": null,
      "outputs": [
        {
          "output_type": "stream",
          "name": "stderr",
          "text": [
            "/usr/local/lib/python3.10/dist-packages/ipykernel/ipkernel.py:283: DeprecationWarning: `should_run_async` will not call `transform_cell` automatically in the future. Please pass the result to `transformed_cell` argument and any exception that happen during thetransform in `preprocessing_exc_tuple` in IPython 7.17 and above.\n",
            "  and should_run_async(code)\n"
          ]
        },
        {
          "output_type": "stream",
          "name": "stdout",
          "text": [
            "Requirement already satisfied: mlxtend in /usr/local/lib/python3.10/dist-packages (0.23.3)\n",
            "Requirement already satisfied: scipy>=1.2.1 in /usr/local/lib/python3.10/dist-packages (from mlxtend) (1.13.1)\n",
            "Requirement already satisfied: numpy>=1.16.2 in /usr/local/lib/python3.10/dist-packages (from mlxtend) (1.26.4)\n",
            "Requirement already satisfied: pandas>=0.24.2 in /usr/local/lib/python3.10/dist-packages (from mlxtend) (2.2.2)\n",
            "Requirement already satisfied: scikit-learn>=1.3.1 in /usr/local/lib/python3.10/dist-packages (from mlxtend) (1.5.2)\n",
            "Requirement already satisfied: matplotlib>=3.0.0 in /usr/local/lib/python3.10/dist-packages (from mlxtend) (3.8.0)\n",
            "Requirement already satisfied: joblib>=0.13.2 in /usr/local/lib/python3.10/dist-packages (from mlxtend) (1.4.2)\n",
            "Requirement already satisfied: contourpy>=1.0.1 in /usr/local/lib/python3.10/dist-packages (from matplotlib>=3.0.0->mlxtend) (1.3.1)\n",
            "Requirement already satisfied: cycler>=0.10 in /usr/local/lib/python3.10/dist-packages (from matplotlib>=3.0.0->mlxtend) (0.12.1)\n",
            "Requirement already satisfied: fonttools>=4.22.0 in /usr/local/lib/python3.10/dist-packages (from matplotlib>=3.0.0->mlxtend) (4.55.0)\n",
            "Requirement already satisfied: kiwisolver>=1.0.1 in /usr/local/lib/python3.10/dist-packages (from matplotlib>=3.0.0->mlxtend) (1.4.7)\n",
            "Requirement already satisfied: packaging>=20.0 in /usr/local/lib/python3.10/dist-packages (from matplotlib>=3.0.0->mlxtend) (24.2)\n",
            "Requirement already satisfied: pillow>=6.2.0 in /usr/local/lib/python3.10/dist-packages (from matplotlib>=3.0.0->mlxtend) (11.0.0)\n",
            "Requirement already satisfied: pyparsing>=2.3.1 in /usr/local/lib/python3.10/dist-packages (from matplotlib>=3.0.0->mlxtend) (3.2.0)\n",
            "Requirement already satisfied: python-dateutil>=2.7 in /usr/local/lib/python3.10/dist-packages (from matplotlib>=3.0.0->mlxtend) (2.9.0.post0)\n",
            "Requirement already satisfied: pytz>=2020.1 in /usr/local/lib/python3.10/dist-packages (from pandas>=0.24.2->mlxtend) (2024.2)\n",
            "Requirement already satisfied: tzdata>=2022.7 in /usr/local/lib/python3.10/dist-packages (from pandas>=0.24.2->mlxtend) (2024.2)\n",
            "Requirement already satisfied: threadpoolctl>=3.1.0 in /usr/local/lib/python3.10/dist-packages (from scikit-learn>=1.3.1->mlxtend) (3.5.0)\n",
            "Requirement already satisfied: six>=1.5 in /usr/local/lib/python3.10/dist-packages (from python-dateutil>=2.7->matplotlib>=3.0.0->mlxtend) (1.16.0)\n"
          ]
        }
      ]
    },
    {
      "cell_type": "code",
      "source": [
        "from mlxtend.preprocessing import TransactionEncoder\n",
        "from mlxtend.frequent_patterns import apriori, association_rules, fpgrowth"
      ],
      "metadata": {
        "id": "NXVOZn8OnC2e",
        "colab": {
          "base_uri": "https://localhost:8080/"
        },
        "outputId": "31fa2d56-f17b-4b68-a26d-99aa279faca2"
      },
      "execution_count": null,
      "outputs": [
        {
          "output_type": "stream",
          "name": "stderr",
          "text": [
            "/usr/local/lib/python3.10/dist-packages/ipykernel/ipkernel.py:283: DeprecationWarning: `should_run_async` will not call `transform_cell` automatically in the future. Please pass the result to `transformed_cell` argument and any exception that happen during thetransform in `preprocessing_exc_tuple` in IPython 7.17 and above.\n",
            "  and should_run_async(code)\n"
          ]
        }
      ]
    },
    {
      "cell_type": "markdown",
      "source": [
        "# Type 13\n"
      ],
      "metadata": {
        "id": "zEpJ5Cdpb8dy"
      }
    },
    {
      "cell_type": "code",
      "source": [
        "incident_type = 13\n",
        "df_13 = filtered_df[filtered_df['incident_type'] == incident_type]\n",
        "\n",
        "filtered_event_sequences = df_13['events_sequence'].tolist()\n",
        "\n",
        "transactions = []\n",
        "for sequence in filtered_event_sequences:\n",
        "    transactions.append([str(event) for event in sequence])\n",
        "\n",
        "te = TransactionEncoder()\n",
        "te_ary = te.fit(transactions).transform(transactions)\n",
        "df_transactions = pd.DataFrame(te_ary, columns=te.columns_)"
      ],
      "metadata": {
        "colab": {
          "base_uri": "https://localhost:8080/"
        },
        "id": "dZvRWY35cAMP",
        "outputId": "5cfa8288-5acf-43f0-f47e-40714bc73b7d"
      },
      "execution_count": null,
      "outputs": [
        {
          "output_type": "stream",
          "name": "stderr",
          "text": [
            "/usr/local/lib/python3.10/dist-packages/ipykernel/ipkernel.py:283: DeprecationWarning: `should_run_async` will not call `transform_cell` automatically in the future. Please pass the result to `transformed_cell` argument and any exception that happen during thetransform in `preprocessing_exc_tuple` in IPython 7.17 and above.\n",
            "  and should_run_async(code)\n"
          ]
        }
      ]
    },
    {
      "cell_type": "code",
      "source": [
        "frequent_itemsets = apriori(df_transactions, min_support=0.45, use_colnames=True)\n"
      ],
      "metadata": {
        "colab": {
          "base_uri": "https://localhost:8080/"
        },
        "id": "B7VspcUtcLZ2",
        "outputId": "51a3b981-f6be-43e4-b2a2-cd16a579d908"
      },
      "execution_count": null,
      "outputs": [
        {
          "output_type": "stream",
          "name": "stderr",
          "text": [
            "/usr/local/lib/python3.10/dist-packages/ipykernel/ipkernel.py:283: DeprecationWarning: `should_run_async` will not call `transform_cell` automatically in the future. Please pass the result to `transformed_cell` argument and any exception that happen during thetransform in `preprocessing_exc_tuple` in IPython 7.17 and above.\n",
            "  and should_run_async(code)\n"
          ]
        }
      ]
    },
    {
      "cell_type": "code",
      "source": [
        "rules_13 = association_rules(frequent_itemsets, metric=\"confidence\", min_threshold=0.6, num_itemsets=len(frequent_itemsets))"
      ],
      "metadata": {
        "colab": {
          "base_uri": "https://localhost:8080/"
        },
        "id": "pHhRx8THeCqy",
        "outputId": "c3f4b5c2-eb17-49fb-cb7a-54e833d871b0"
      },
      "execution_count": null,
      "outputs": [
        {
          "output_type": "stream",
          "name": "stderr",
          "text": [
            "/usr/local/lib/python3.10/dist-packages/ipykernel/ipkernel.py:283: DeprecationWarning: `should_run_async` will not call `transform_cell` automatically in the future. Please pass the result to `transformed_cell` argument and any exception that happen during thetransform in `preprocessing_exc_tuple` in IPython 7.17 and above.\n",
            "  and should_run_async(code)\n"
          ]
        }
      ]
    },
    {
      "cell_type": "code",
      "source": [
        "rules_13['incident_type'] = incident_type"
      ],
      "metadata": {
        "id": "I-rUpbs_eGoe",
        "colab": {
          "base_uri": "https://localhost:8080/"
        },
        "outputId": "b476af45-8d0c-469b-c8d3-de662f8a3c72"
      },
      "execution_count": null,
      "outputs": [
        {
          "output_type": "stream",
          "name": "stderr",
          "text": [
            "/usr/local/lib/python3.10/dist-packages/ipykernel/ipkernel.py:283: DeprecationWarning: `should_run_async` will not call `transform_cell` automatically in the future. Please pass the result to `transformed_cell` argument and any exception that happen during thetransform in `preprocessing_exc_tuple` in IPython 7.17 and above.\n",
            "  and should_run_async(code)\n"
          ]
        }
      ]
    },
    {
      "cell_type": "code",
      "source": [
        "rules_13['event_set'] = rules_13.apply(lambda row: row['antecedents'].union(row['consequents']), axis=1)\n",
        "rules_13['event_set_length'] = rules_13['event_set'].apply(len)\n",
        "\n",
        "rules_13['event_set'] = rules_13['event_set'].apply(frozenset)\n",
        "rules_13 = rules_13.drop_duplicates(subset=['event_set'])\n",
        "rules_13 = rules_13[rules_13['event_set'].apply(len) >= 9].copy()\n",
        "\n",
        "rules_13.reset_index(drop=True, inplace=True)\n",
        "\n",
        "print(rules_13[['event_set', 'event_set_length', 'confidence']])\n"
      ],
      "metadata": {
        "id": "P61dCh7xkkLz",
        "colab": {
          "base_uri": "https://localhost:8080/"
        },
        "outputId": "62d41504-38c3-41a0-c238-5667d16e1c78"
      },
      "execution_count": null,
      "outputs": [
        {
          "output_type": "stream",
          "name": "stderr",
          "text": [
            "/usr/local/lib/python3.10/dist-packages/ipykernel/ipkernel.py:283: DeprecationWarning: `should_run_async` will not call `transform_cell` automatically in the future. Please pass the result to `transformed_cell` argument and any exception that happen during thetransform in `preprocessing_exc_tuple` in IPython 7.17 and above.\n",
            "  and should_run_async(code)\n"
          ]
        },
        {
          "output_type": "stream",
          "name": "stdout",
          "text": [
            "                                               event_set  event_set_length  \\\n",
            "0      (4066, 4120, 2742, 4148, 4026, 2658, 3254, 406...                 9   \n",
            "1      (4066, 4120, 2742, 4026, 2658, 3636, 3658, 406...                 9   \n",
            "2      (2744, 4066, 2742, 4026, 3636, 3658, 2682, 406...                 9   \n",
            "3      (2744, 4066, 4120, 2742, 4026, 3636, 3658, 268...                 9   \n",
            "4      (2744, 4066, 2742, 4026, 3636, 4124, 3658, 268...                 9   \n",
            "...                                                  ...               ...   \n",
            "19903  (4110, 4412, 4406, 4140, 4148, 4026, 4030, 285...                13   \n",
            "19904  (4110, 4066, 4120, 2852, 4140, 4148, 2742, 402...                13   \n",
            "19905  (4110, 4412, 4406, 2852, 4140, 4148, 4026, 403...                13   \n",
            "19906  (4110, 4066, 4120, 2852, 4140, 4148, 2742, 402...                14   \n",
            "19907  (4110, 4412, 4406, 2852, 4140, 4148, 4026, 403...                14   \n",
            "\n",
            "       confidence  \n",
            "0             1.0  \n",
            "1             1.0  \n",
            "2             1.0  \n",
            "3             1.0  \n",
            "4             1.0  \n",
            "...           ...  \n",
            "19903         1.0  \n",
            "19904         1.0  \n",
            "19905         1.0  \n",
            "19906         1.0  \n",
            "19907         1.0  \n",
            "\n",
            "[19908 rows x 3 columns]\n"
          ]
        }
      ]
    },
    {
      "cell_type": "code",
      "source": [
        "print(len(rules_13['event_set'].unique()))"
      ],
      "metadata": {
        "id": "sfTee5b3Cjuo",
        "colab": {
          "base_uri": "https://localhost:8080/"
        },
        "outputId": "707e0e2d-eeb7-457e-88cf-c1facdd8b2d4"
      },
      "execution_count": null,
      "outputs": [
        {
          "output_type": "stream",
          "name": "stdout",
          "text": [
            "19908\n"
          ]
        },
        {
          "output_type": "stream",
          "name": "stderr",
          "text": [
            "/usr/local/lib/python3.10/dist-packages/ipykernel/ipkernel.py:283: DeprecationWarning: `should_run_async` will not call `transform_cell` automatically in the future. Please pass the result to `transformed_cell` argument and any exception that happen during thetransform in `preprocessing_exc_tuple` in IPython 7.17 and above.\n",
            "  and should_run_async(code)\n"
          ]
        }
      ]
    },
    {
      "cell_type": "markdown",
      "source": [
        "# Type 99"
      ],
      "metadata": {
        "id": "s9KRtpWmy-jG"
      }
    },
    {
      "cell_type": "code",
      "source": [
        "incident_type = 99\n",
        "df_99 = filtered_df[filtered_df['incident_type'] == incident_type]\n",
        "\n",
        "filtered_event_sequences = df_99['events_sequence'].tolist()\n",
        "\n",
        "transactions = []\n",
        "for sequence in filtered_event_sequences:\n",
        "    transactions.append([str(event) for event in sequence])\n",
        "\n",
        "te = TransactionEncoder()\n",
        "te_ary = te.fit(transactions).transform(transactions)\n",
        "df_transactions = pd.DataFrame(te_ary, columns=te.columns_)\n",
        "\n",
        "frequent_itemsets = apriori(df_transactions, min_support=0.5, use_colnames=True)"
      ],
      "metadata": {
        "id": "bv--rgVezLrH",
        "colab": {
          "base_uri": "https://localhost:8080/"
        },
        "outputId": "3b2c9598-0532-4ee2-b203-68646cb08fcd"
      },
      "execution_count": null,
      "outputs": [
        {
          "output_type": "stream",
          "name": "stderr",
          "text": [
            "/usr/local/lib/python3.10/dist-packages/ipykernel/ipkernel.py:283: DeprecationWarning: `should_run_async` will not call `transform_cell` automatically in the future. Please pass the result to `transformed_cell` argument and any exception that happen during thetransform in `preprocessing_exc_tuple` in IPython 7.17 and above.\n",
            "  and should_run_async(code)\n"
          ]
        }
      ]
    },
    {
      "cell_type": "code",
      "source": [
        "print(frequent_itemsets.shape)"
      ],
      "metadata": {
        "id": "ClDz8I2AzYeG",
        "colab": {
          "base_uri": "https://localhost:8080/"
        },
        "outputId": "56c22777-090b-4480-f447-774c00764f6a"
      },
      "execution_count": null,
      "outputs": [
        {
          "output_type": "stream",
          "name": "stdout",
          "text": [
            "(7353, 2)\n"
          ]
        },
        {
          "output_type": "stream",
          "name": "stderr",
          "text": [
            "/usr/local/lib/python3.10/dist-packages/ipykernel/ipkernel.py:283: DeprecationWarning: `should_run_async` will not call `transform_cell` automatically in the future. Please pass the result to `transformed_cell` argument and any exception that happen during thetransform in `preprocessing_exc_tuple` in IPython 7.17 and above.\n",
            "  and should_run_async(code)\n"
          ]
        }
      ]
    },
    {
      "cell_type": "code",
      "source": [
        "rules_99 = association_rules(frequent_itemsets, metric=\"confidence\", min_threshold=0.6, num_itemsets=len(frequent_itemsets))"
      ],
      "metadata": {
        "id": "OH5-JLWOzb_m",
        "colab": {
          "base_uri": "https://localhost:8080/"
        },
        "outputId": "c60992ce-5cf1-4eca-ae20-636a29e75c86"
      },
      "execution_count": null,
      "outputs": [
        {
          "output_type": "stream",
          "name": "stderr",
          "text": [
            "/usr/local/lib/python3.10/dist-packages/ipykernel/ipkernel.py:283: DeprecationWarning: `should_run_async` will not call `transform_cell` automatically in the future. Please pass the result to `transformed_cell` argument and any exception that happen during thetransform in `preprocessing_exc_tuple` in IPython 7.17 and above.\n",
            "  and should_run_async(code)\n"
          ]
        }
      ]
    },
    {
      "cell_type": "code",
      "source": [
        "rules_99['incident_type'] = incident_type"
      ],
      "metadata": {
        "id": "OKSHkgcHzfeF",
        "colab": {
          "base_uri": "https://localhost:8080/"
        },
        "outputId": "5db6c03a-d3f4-4502-bb22-494f85d3c756"
      },
      "execution_count": null,
      "outputs": [
        {
          "output_type": "stream",
          "name": "stderr",
          "text": [
            "/usr/local/lib/python3.10/dist-packages/ipykernel/ipkernel.py:283: DeprecationWarning: `should_run_async` will not call `transform_cell` automatically in the future. Please pass the result to `transformed_cell` argument and any exception that happen during thetransform in `preprocessing_exc_tuple` in IPython 7.17 and above.\n",
            "  and should_run_async(code)\n"
          ]
        }
      ]
    },
    {
      "cell_type": "code",
      "source": [
        "print(rules_99[['antecedents', 'consequents','support', 'confidence']])"
      ],
      "metadata": {
        "id": "ORGNXsXrzibl",
        "colab": {
          "base_uri": "https://localhost:8080/"
        },
        "outputId": "704ae819-70b8-42ef-d27f-53c7b9544abf"
      },
      "execution_count": null,
      "outputs": [
        {
          "output_type": "stream",
          "name": "stdout",
          "text": [
            "         antecedents                                        consequents  \\\n",
            "0             (2688)                                             (2658)   \n",
            "1             (2658)                                             (2688)   \n",
            "2             (2658)                                             (2708)   \n",
            "3             (2658)                                             (2744)   \n",
            "4             (2852)                                             (2658)   \n",
            "...              ...                                                ...   \n",
            "394331  (3658, 2708)  (2744, 4066, 4120, 4148, 2742, 4026, 4124, 363...   \n",
            "394332        (4120)  (2744, 4066, 2742, 4148, 4026, 4124, 3636, 365...   \n",
            "394333        (4148)  (2744, 4066, 4120, 2742, 4026, 4124, 3636, 365...   \n",
            "394334        (3636)  (2744, 4066, 4120, 2742, 4148, 4026, 4124, 365...   \n",
            "394335        (3658)  (2744, 4066, 4120, 2742, 4148, 4026, 4124, 363...   \n",
            "\n",
            "         support  confidence  \n",
            "0       0.500000    0.988372  \n",
            "1       0.500000    0.955056  \n",
            "2       0.523529    1.000000  \n",
            "3       0.505882    0.966292  \n",
            "4       0.505882    0.741379  \n",
            "...          ...         ...  \n",
            "394331  0.529412    0.666667  \n",
            "394332  0.529412    0.616438  \n",
            "394333  0.529412    0.600000  \n",
            "394334  0.529412    0.656934  \n",
            "394335  0.529412    0.661765  \n",
            "\n",
            "[394336 rows x 4 columns]\n"
          ]
        },
        {
          "output_type": "stream",
          "name": "stderr",
          "text": [
            "/usr/local/lib/python3.10/dist-packages/ipykernel/ipkernel.py:283: DeprecationWarning: `should_run_async` will not call `transform_cell` automatically in the future. Please pass the result to `transformed_cell` argument and any exception that happen during thetransform in `preprocessing_exc_tuple` in IPython 7.17 and above.\n",
            "  and should_run_async(code)\n"
          ]
        }
      ]
    },
    {
      "cell_type": "code",
      "source": [
        "rules_99['event_set'] = rules_99.apply(lambda row: row['antecedents'].union(row['consequents']), axis=1)\n",
        "rules_99['event_set_length'] = rules_99['event_set'].apply(len)\n",
        "\n",
        "rules_99['event_set'] = rules_99['event_set'].apply(frozenset)\n",
        "rules_99 = rules_99.drop_duplicates(subset=['event_set'])\n",
        "rules_99 = rules_99[rules_99['event_set'].apply(len) >= 9].copy()\n",
        "\n",
        "rules_99.reset_index(drop=True, inplace=True)\n",
        "\n",
        "print(rules_99[['event_set', 'event_set_length', 'confidence']])"
      ],
      "metadata": {
        "id": "v4VRzeG5pFVv",
        "colab": {
          "base_uri": "https://localhost:8080/"
        },
        "outputId": "484f4a4f-0070-42cd-8069-efa01fa41075"
      },
      "execution_count": null,
      "outputs": [
        {
          "output_type": "stream",
          "name": "stderr",
          "text": [
            "/usr/local/lib/python3.10/dist-packages/ipykernel/ipkernel.py:283: DeprecationWarning: `should_run_async` will not call `transform_cell` automatically in the future. Please pass the result to `transformed_cell` argument and any exception that happen during thetransform in `preprocessing_exc_tuple` in IPython 7.17 and above.\n",
            "  and should_run_async(code)\n"
          ]
        },
        {
          "output_type": "stream",
          "name": "stdout",
          "text": [
            "                                            event_set  event_set_length  \\\n",
            "0   (2744, 2852, 4120, 2742, 4026, 4030, 4124, 285...                 9   \n",
            "1   (2744, 4066, 2852, 4120, 2742, 4026, 4124, 285...                 9   \n",
            "2   (2744, 2852, 4120, 2742, 4026, 4124, 2854, 406...                 9   \n",
            "3   (2744, 2852, 4120, 4148, 2742, 4026, 4124, 285...                 9   \n",
            "4   (2744, 4066, 4120, 2742, 4026, 3636, 3658, 406...                 9   \n",
            "..                                                ...               ...   \n",
            "78  (4066, 4120, 4148, 2742, 4026, 4124, 3636, 365...                10   \n",
            "79  (2744, 4066, 4120, 4148, 4026, 4124, 3636, 365...                10   \n",
            "80  (2852, 4140, 4148, 4026, 4030, 4152, 2854, 416...                10   \n",
            "81  (2744, 4066, 4120, 4148, 2742, 4026, 4124, 363...                10   \n",
            "82  (2744, 4066, 4120, 4148, 2742, 4026, 4124, 363...                11   \n",
            "\n",
            "    confidence  \n",
            "0     1.000000  \n",
            "1     1.000000  \n",
            "2     1.000000  \n",
            "3     1.000000  \n",
            "4     1.000000  \n",
            "..         ...  \n",
            "78    1.000000  \n",
            "79    1.000000  \n",
            "80    1.000000  \n",
            "81    0.957447  \n",
            "82    1.000000  \n",
            "\n",
            "[83 rows x 3 columns]\n"
          ]
        }
      ]
    },
    {
      "cell_type": "markdown",
      "source": [
        "# Type 14"
      ],
      "metadata": {
        "id": "gCm0seCEzAzJ"
      }
    },
    {
      "cell_type": "code",
      "source": [
        "incident_type = 14\n",
        "df_14 = filtered_df[filtered_df['incident_type'] == incident_type]\n",
        "\n",
        "filtered_event_sequences = df_14['events_sequence'].tolist()\n",
        "\n",
        "transactions = []\n",
        "for sequence in filtered_event_sequences:\n",
        "    transactions.append([str(event) for event in sequence])\n",
        "\n",
        "te = TransactionEncoder()\n",
        "te_ary = te.fit(transactions).transform(transactions)\n",
        "df_transactions = pd.DataFrame(te_ary, columns=te.columns_)\n",
        "\n",
        "frequent_itemsets = apriori(df_transactions, min_support=0.7, use_colnames=True)\n"
      ],
      "metadata": {
        "id": "0aMr5Mbb0opY",
        "colab": {
          "base_uri": "https://localhost:8080/"
        },
        "outputId": "af92f0e8-9748-4420-d542-4003ca3b2997"
      },
      "execution_count": null,
      "outputs": [
        {
          "output_type": "stream",
          "name": "stderr",
          "text": [
            "/usr/local/lib/python3.10/dist-packages/ipykernel/ipkernel.py:283: DeprecationWarning: `should_run_async` will not call `transform_cell` automatically in the future. Please pass the result to `transformed_cell` argument and any exception that happen during thetransform in `preprocessing_exc_tuple` in IPython 7.17 and above.\n",
            "  and should_run_async(code)\n"
          ]
        }
      ]
    },
    {
      "cell_type": "code",
      "source": [
        "print(frequent_itemsets.shape)"
      ],
      "metadata": {
        "id": "Nk6aqYcF0uYB",
        "colab": {
          "base_uri": "https://localhost:8080/"
        },
        "outputId": "04c30603-6c58-41f6-fff2-9326c2565622"
      },
      "execution_count": null,
      "outputs": [
        {
          "output_type": "stream",
          "name": "stdout",
          "text": [
            "(6105, 2)\n"
          ]
        },
        {
          "output_type": "stream",
          "name": "stderr",
          "text": [
            "/usr/local/lib/python3.10/dist-packages/ipykernel/ipkernel.py:283: DeprecationWarning: `should_run_async` will not call `transform_cell` automatically in the future. Please pass the result to `transformed_cell` argument and any exception that happen during thetransform in `preprocessing_exc_tuple` in IPython 7.17 and above.\n",
            "  and should_run_async(code)\n"
          ]
        }
      ]
    },
    {
      "cell_type": "code",
      "source": [
        "rules_14 = association_rules(frequent_itemsets, metric=\"confidence\", min_threshold=0.6, num_itemsets=len(frequent_itemsets))"
      ],
      "metadata": {
        "id": "vhHXQkrf0wrp",
        "colab": {
          "base_uri": "https://localhost:8080/"
        },
        "outputId": "a847c880-46a7-431d-bec5-7342fb48fda6"
      },
      "execution_count": null,
      "outputs": [
        {
          "output_type": "stream",
          "name": "stderr",
          "text": [
            "/usr/local/lib/python3.10/dist-packages/ipykernel/ipkernel.py:283: DeprecationWarning: `should_run_async` will not call `transform_cell` automatically in the future. Please pass the result to `transformed_cell` argument and any exception that happen during thetransform in `preprocessing_exc_tuple` in IPython 7.17 and above.\n",
            "  and should_run_async(code)\n",
            "/usr/local/lib/python3.10/dist-packages/mlxtend/frequent_patterns/association_rules.py:182: RuntimeWarning: invalid value encountered in divide\n",
            "  cert_metric = np.where(certainty_denom == 0, 0, certainty_num / certainty_denom)\n"
          ]
        }
      ]
    },
    {
      "cell_type": "code",
      "source": [
        "rules_14['incident_type'] = incident_type"
      ],
      "metadata": {
        "id": "RYCJ411k1FAO",
        "colab": {
          "base_uri": "https://localhost:8080/"
        },
        "outputId": "cd56f995-81df-4d6c-cd0f-46f3aa1778dc"
      },
      "execution_count": null,
      "outputs": [
        {
          "output_type": "stream",
          "name": "stderr",
          "text": [
            "/usr/local/lib/python3.10/dist-packages/ipykernel/ipkernel.py:283: DeprecationWarning: `should_run_async` will not call `transform_cell` automatically in the future. Please pass the result to `transformed_cell` argument and any exception that happen during thetransform in `preprocessing_exc_tuple` in IPython 7.17 and above.\n",
            "  and should_run_async(code)\n"
          ]
        }
      ]
    },
    {
      "cell_type": "code",
      "source": [
        "rules_14['event_set'] = rules_14.apply(lambda row: row['antecedents'].union(row['consequents']), axis=1)\n",
        "rules_14['event_set_length'] = rules_14['event_set'].apply(len)\n",
        "\n",
        "rules_14['event_set'] = rules_14['event_set'].apply(frozenset)\n",
        "rules_14 = rules_14.drop_duplicates(subset=['event_set'])\n",
        "rules_14 = rules_14[rules_14['event_set'].apply(len) >= 9].copy()\n",
        "\n",
        "rules_14.reset_index(drop=True, inplace=True)\n",
        "\n",
        "print(rules_14[['event_set', 'event_set_length', 'confidence']])"
      ],
      "metadata": {
        "id": "S8_Uq9xT1IzW",
        "colab": {
          "base_uri": "https://localhost:8080/"
        },
        "outputId": "87002a46-52e5-4b4f-9845-144918469bcd"
      },
      "execution_count": null,
      "outputs": [
        {
          "output_type": "stream",
          "name": "stderr",
          "text": [
            "/usr/local/lib/python3.10/dist-packages/ipykernel/ipkernel.py:283: DeprecationWarning: `should_run_async` will not call `transform_cell` automatically in the future. Please pass the result to `transformed_cell` argument and any exception that happen during thetransform in `preprocessing_exc_tuple` in IPython 7.17 and above.\n",
            "  and should_run_async(code)\n"
          ]
        },
        {
          "output_type": "stream",
          "name": "stdout",
          "text": [
            "                                            event_set  event_set_length  \\\n",
            "0   (4110, 3986, 2852, 4140, 2742, 4026, 4030, 285...                 9   \n",
            "1   (4110, 3986, 2852, 2742, 4026, 4030, 2854, 416...                 9   \n",
            "2   (3986, 2852, 4140, 2742, 4026, 4030, 2854, 416...                 9   \n",
            "3   (4110, 3986, 2852, 4140, 2742, 4026, 2854, 416...                 9   \n",
            "4   (4110, 3986, 2852, 4140, 2742, 4030, 2854, 416...                 9   \n",
            "5   (4066, 2852, 4140, 2742, 4026, 4030, 2854, 416...                 9   \n",
            "6   (4110, 2852, 4140, 2742, 4026, 4030, 2854, 416...                 9   \n",
            "7   (4066, 2852, 4140, 2742, 4026, 2854, 4168, 406...                 9   \n",
            "8   (4110, 3986, 2852, 4140, 2742, 4026, 4030, 416...                 9   \n",
            "9   (4110, 3986, 4140, 2742, 4026, 4030, 2854, 416...                 9   \n",
            "10  (4066, 4120, 2742, 4026, 3636, 3658, 4168, 406...                 9   \n",
            "11  (4066, 4140, 2742, 4026, 3636, 3658, 4168, 406...                 9   \n",
            "12  (4066, 4120, 4140, 2742, 4026, 3636, 3658, 416...                 9   \n",
            "13  (4120, 4140, 2742, 4026, 3636, 3658, 4168, 406...                 9   \n",
            "14  (4066, 4120, 4140, 2742, 4026, 3658, 4168, 406...                 9   \n",
            "15  (2744, 4066, 4140, 4026, 3636, 3658, 4168, 406...                 9   \n",
            "16  (2744, 4066, 4140, 4026, 3636, 4124, 3658, 416...                 9   \n",
            "17  (4066, 3986, 2852, 4140, 4026, 4030, 2854, 416...                 9   \n",
            "18  (3986, 2852, 4140, 4026, 4030, 2854, 4168, 406...                 9   \n",
            "19  (4110, 3986, 2852, 4140, 4026, 4030, 2854, 416...                 9   \n",
            "20  (4066, 3986, 2852, 4140, 4026, 2854, 4168, 406...                 9   \n",
            "21  (4110, 4066, 3986, 2852, 4140, 4026, 2854, 416...                 9   \n",
            "22  (4066, 2852, 4140, 4026, 4030, 2854, 4168, 406...                 9   \n",
            "23  (4110, 4066, 2852, 4140, 4026, 4030, 2854, 416...                 9   \n",
            "24  (4110, 2852, 4140, 4026, 4030, 2854, 4168, 406...                 9   \n",
            "25  (4110, 4066, 2852, 4140, 4026, 2854, 4168, 406...                 9   \n",
            "26  (4066, 4120, 4140, 4026, 3636, 3658, 4168, 406...                 9   \n",
            "27  (4110, 3986, 2852, 4140, 2742, 4026, 4030, 285...                 9   \n",
            "28  (4110, 3986, 2852, 4140, 2742, 4026, 4030, 285...                10   \n",
            "\n",
            "    confidence  \n",
            "0          1.0  \n",
            "1          1.0  \n",
            "2          1.0  \n",
            "3          1.0  \n",
            "4          1.0  \n",
            "5          1.0  \n",
            "6          1.0  \n",
            "7          1.0  \n",
            "8          1.0  \n",
            "9          1.0  \n",
            "10         1.0  \n",
            "11         1.0  \n",
            "12         1.0  \n",
            "13         1.0  \n",
            "14         1.0  \n",
            "15         1.0  \n",
            "16         1.0  \n",
            "17         1.0  \n",
            "18         1.0  \n",
            "19         1.0  \n",
            "20         1.0  \n",
            "21         1.0  \n",
            "22         1.0  \n",
            "23         1.0  \n",
            "24         1.0  \n",
            "25         1.0  \n",
            "26         1.0  \n",
            "27         1.0  \n",
            "28         1.0  \n"
          ]
        }
      ]
    },
    {
      "cell_type": "markdown",
      "source": [
        "# Type 2"
      ],
      "metadata": {
        "id": "FBpP_Wxx1cT6"
      }
    },
    {
      "cell_type": "code",
      "source": [
        "incident_type = 2\n",
        "df_2 = filtered_df[filtered_df['incident_type'] == incident_type]\n",
        "\n",
        "filtered_event_sequences = df_2['events_sequence'].tolist()\n",
        "\n",
        "transactions = []\n",
        "for sequence in filtered_event_sequences:\n",
        "    transactions.append([str(event) for event in sequence])\n",
        "\n",
        "te = TransactionEncoder()\n",
        "te_ary = te.fit(transactions).transform(transactions)\n",
        "df_transactions = pd.DataFrame(te_ary, columns=te.columns_)\n"
      ],
      "metadata": {
        "id": "5tDtq83711Ia",
        "colab": {
          "base_uri": "https://localhost:8080/"
        },
        "outputId": "02182a6a-55b2-4bea-bfe2-e6423c139806"
      },
      "execution_count": null,
      "outputs": [
        {
          "output_type": "stream",
          "name": "stderr",
          "text": [
            "/usr/local/lib/python3.10/dist-packages/ipykernel/ipkernel.py:283: DeprecationWarning: `should_run_async` will not call `transform_cell` automatically in the future. Please pass the result to `transformed_cell` argument and any exception that happen during thetransform in `preprocessing_exc_tuple` in IPython 7.17 and above.\n",
            "  and should_run_async(code)\n"
          ]
        }
      ]
    },
    {
      "cell_type": "code",
      "source": [
        "df_2.info()"
      ],
      "metadata": {
        "id": "ehEOiPW260-0",
        "colab": {
          "base_uri": "https://localhost:8080/"
        },
        "outputId": "2b941bf4-cc1f-4215-c8a7-d482f7a1f885"
      },
      "execution_count": null,
      "outputs": [
        {
          "output_type": "stream",
          "name": "stdout",
          "text": [
            "<class 'pandas.core.frame.DataFrame'>\n",
            "Index: 119 entries, 3 to 1008\n",
            "Data columns (total 10 columns):\n",
            " #   Column                        Non-Null Count  Dtype  \n",
            "---  ------                        --------------  -----  \n",
            " 0   incident_id                   119 non-null    int64  \n",
            " 1   vehicles_sequence             119 non-null    object \n",
            " 2   events_sequence               119 non-null    object \n",
            " 3   seconds_to_incident_sequence  119 non-null    object \n",
            " 4   approx_lat                    119 non-null    float64\n",
            " 5   approx_lon                    119 non-null    float64\n",
            " 6   train_kph_sequence            119 non-null    object \n",
            " 7   dj_ac_state_sequence          119 non-null    object \n",
            " 8   dj_dc_state_sequence          119 non-null    object \n",
            " 9   incident_type                 119 non-null    int64  \n",
            "dtypes: float64(2), int64(2), object(6)\n",
            "memory usage: 10.2+ KB\n"
          ]
        },
        {
          "output_type": "stream",
          "name": "stderr",
          "text": [
            "/usr/local/lib/python3.10/dist-packages/ipykernel/ipkernel.py:283: DeprecationWarning: `should_run_async` will not call `transform_cell` automatically in the future. Please pass the result to `transformed_cell` argument and any exception that happen during thetransform in `preprocessing_exc_tuple` in IPython 7.17 and above.\n",
            "  and should_run_async(code)\n"
          ]
        }
      ]
    },
    {
      "cell_type": "code",
      "source": [
        "frequent_itemsets = apriori(df_transactions, min_support=0.8, use_colnames=True)\n",
        "print(frequent_itemsets.shape)\n"
      ],
      "metadata": {
        "id": "zzzHIHSm19Xf",
        "colab": {
          "base_uri": "https://localhost:8080/"
        },
        "outputId": "03472438-2aa9-445d-caa4-baf6c6033591"
      },
      "execution_count": null,
      "outputs": [
        {
          "output_type": "stream",
          "name": "stderr",
          "text": [
            "/usr/local/lib/python3.10/dist-packages/ipykernel/ipkernel.py:283: DeprecationWarning: `should_run_async` will not call `transform_cell` automatically in the future. Please pass the result to `transformed_cell` argument and any exception that happen during thetransform in `preprocessing_exc_tuple` in IPython 7.17 and above.\n",
            "  and should_run_async(code)\n"
          ]
        },
        {
          "output_type": "stream",
          "name": "stdout",
          "text": [
            "(32893, 2)\n"
          ]
        }
      ]
    },
    {
      "cell_type": "code",
      "source": [
        "rules_2 = association_rules(frequent_itemsets, metric=\"confidence\", min_threshold=0.8, num_itemsets=len(frequent_itemsets))\n",
        "\n",
        "rules_2['incident_type'] = incident_type\n"
      ],
      "metadata": {
        "id": "qeufhcsW2CvK",
        "colab": {
          "base_uri": "https://localhost:8080/"
        },
        "outputId": "6da65b16-fe60-4b34-a8be-b2f1bff43254"
      },
      "execution_count": null,
      "outputs": [
        {
          "output_type": "stream",
          "name": "stderr",
          "text": [
            "/usr/local/lib/python3.10/dist-packages/ipykernel/ipkernel.py:283: DeprecationWarning: `should_run_async` will not call `transform_cell` automatically in the future. Please pass the result to `transformed_cell` argument and any exception that happen during thetransform in `preprocessing_exc_tuple` in IPython 7.17 and above.\n",
            "  and should_run_async(code)\n",
            "/usr/local/lib/python3.10/dist-packages/mlxtend/frequent_patterns/association_rules.py:182: RuntimeWarning: invalid value encountered in divide\n",
            "  cert_metric = np.where(certainty_denom == 0, 0, certainty_num / certainty_denom)\n"
          ]
        }
      ]
    },
    {
      "cell_type": "code",
      "source": [
        "rules_2['event_set'] = rules_2.apply(lambda row: row['antecedents'].union(row['consequents']), axis=1)\n",
        "rules_2['event_set_length'] = rules_2['event_set'].apply(len)\n",
        "\n",
        "rules_2['event_set'] = rules_2['event_set'].apply(frozenset)\n",
        "rules_2 = rules_2.drop_duplicates(subset=['event_set'])"
      ],
      "metadata": {
        "id": "5sd8WQXLprFH",
        "colab": {
          "base_uri": "https://localhost:8080/"
        },
        "outputId": "2518bb5d-568a-47df-df52-6f2e0debc86f"
      },
      "execution_count": null,
      "outputs": [
        {
          "output_type": "stream",
          "name": "stderr",
          "text": [
            "/usr/local/lib/python3.10/dist-packages/ipykernel/ipkernel.py:283: DeprecationWarning: `should_run_async` will not call `transform_cell` automatically in the future. Please pass the result to `transformed_cell` argument and any exception that happen during thetransform in `preprocessing_exc_tuple` in IPython 7.17 and above.\n",
            "  and should_run_async(code)\n"
          ]
        }
      ]
    },
    {
      "cell_type": "code",
      "source": [
        "rules_2 = rules_2[rules_2['event_set'].apply(len) >= 9].copy()\n",
        "\n",
        "rules_2.reset_index(drop=True, inplace=True)\n",
        "\n",
        "print(rules_2[['event_set', 'event_set_length', 'confidence']])"
      ],
      "metadata": {
        "colab": {
          "base_uri": "https://localhost:8080/"
        },
        "id": "o6GIGh3Dt7az",
        "outputId": "9210652d-58cd-43a5-d561-3267342e3e03"
      },
      "execution_count": null,
      "outputs": [
        {
          "output_type": "stream",
          "name": "stdout",
          "text": [
            "                                              event_set  event_set_length  \\\n",
            "0     (4020, 4066, 2742, 4026, 3636, 4016, 3658, 268...                 9   \n",
            "1     (4020, 4120, 2742, 4026, 3636, 4016, 3658, 268...                 9   \n",
            "2     (4020, 4066, 4120, 2742, 3636, 4016, 3658, 268...                 9   \n",
            "3     (4066, 4120, 2742, 4026, 3636, 4016, 3658, 268...                 9   \n",
            "4     (4020, 4066, 4120, 2742, 4026, 3636, 3658, 268...                 9   \n",
            "...                                                 ...               ...   \n",
            "2795  (2744, 4066, 4020, 4120, 2742, 4026, 4030, 363...                12   \n",
            "2796  (2744, 4066, 4020, 4120, 2742, 4026, 3636, 401...                12   \n",
            "2797  (4020, 4066, 4120, 2742, 4026, 4030, 3636, 401...                12   \n",
            "2798  (2744, 4066, 4020, 4026, 4030, 3636, 4016, 412...                12   \n",
            "2799  (2744, 4066, 4020, 4120, 4026, 4030, 3636, 401...                12   \n",
            "\n",
            "      confidence  \n",
            "0            1.0  \n",
            "1            1.0  \n",
            "2            1.0  \n",
            "3            1.0  \n",
            "4            1.0  \n",
            "...          ...  \n",
            "2795         1.0  \n",
            "2796         1.0  \n",
            "2797         1.0  \n",
            "2798         1.0  \n",
            "2799         1.0  \n",
            "\n",
            "[2800 rows x 3 columns]\n"
          ]
        },
        {
          "output_type": "stream",
          "name": "stderr",
          "text": [
            "/usr/local/lib/python3.10/dist-packages/ipykernel/ipkernel.py:283: DeprecationWarning: `should_run_async` will not call `transform_cell` automatically in the future. Please pass the result to `transformed_cell` argument and any exception that happen during thetransform in `preprocessing_exc_tuple` in IPython 7.17 and above.\n",
            "  and should_run_async(code)\n"
          ]
        }
      ]
    },
    {
      "cell_type": "markdown",
      "source": [
        "# Type 9"
      ],
      "metadata": {
        "id": "TUH24oz-1xFK"
      }
    },
    {
      "cell_type": "code",
      "source": [
        "incident_type = 9\n",
        "df_9 = filtered_df[filtered_df['incident_type'] == incident_type]\n",
        "\n",
        "filtered_event_sequences = df_9['events_sequence'].tolist()\n",
        "\n",
        "transactions = []\n",
        "for sequence in filtered_event_sequences:\n",
        "    transactions.append([str(event) for event in sequence])\n",
        "\n",
        "te = TransactionEncoder()\n",
        "te_ary = te.fit(transactions).transform(transactions)\n",
        "df_transactions = pd.DataFrame(te_ary, columns=te.columns_)\n"
      ],
      "metadata": {
        "id": "3EHIWYxU4H53",
        "colab": {
          "base_uri": "https://localhost:8080/"
        },
        "outputId": "a212a080-a705-4d58-a071-41a743838075"
      },
      "execution_count": null,
      "outputs": [
        {
          "output_type": "stream",
          "name": "stderr",
          "text": [
            "/usr/local/lib/python3.10/dist-packages/ipykernel/ipkernel.py:283: DeprecationWarning: `should_run_async` will not call `transform_cell` automatically in the future. Please pass the result to `transformed_cell` argument and any exception that happen during thetransform in `preprocessing_exc_tuple` in IPython 7.17 and above.\n",
            "  and should_run_async(code)\n"
          ]
        }
      ]
    },
    {
      "cell_type": "code",
      "source": [
        "frequent_itemsets = apriori(df_transactions, min_support=0.5, use_colnames=True)\n",
        "print(frequent_itemsets.shape)\n"
      ],
      "metadata": {
        "id": "tJPkOcBG4NFi",
        "colab": {
          "base_uri": "https://localhost:8080/"
        },
        "outputId": "088bda69-4e3f-4b7c-8b0b-735ac4afe938"
      },
      "execution_count": null,
      "outputs": [
        {
          "output_type": "stream",
          "name": "stdout",
          "text": [
            "(9039, 2)\n"
          ]
        },
        {
          "output_type": "stream",
          "name": "stderr",
          "text": [
            "/usr/local/lib/python3.10/dist-packages/ipykernel/ipkernel.py:283: DeprecationWarning: `should_run_async` will not call `transform_cell` automatically in the future. Please pass the result to `transformed_cell` argument and any exception that happen during thetransform in `preprocessing_exc_tuple` in IPython 7.17 and above.\n",
            "  and should_run_async(code)\n"
          ]
        }
      ]
    },
    {
      "cell_type": "code",
      "source": [
        "rules_9 = association_rules(frequent_itemsets, metric=\"confidence\", min_threshold=0.6, num_itemsets=len(frequent_itemsets))\n",
        "\n",
        "rules_9['incident_type'] = incident_type\n",
        "\n",
        "print(rules_9[['antecedents', 'consequents','support', 'confidence']])\n"
      ],
      "metadata": {
        "id": "buaLHXZI4Rip",
        "colab": {
          "base_uri": "https://localhost:8080/"
        },
        "outputId": "ca139ea5-e4f7-4bb4-d719-9138dafe2503"
      },
      "execution_count": null,
      "outputs": [
        {
          "output_type": "stream",
          "name": "stderr",
          "text": [
            "/usr/local/lib/python3.10/dist-packages/ipykernel/ipkernel.py:283: DeprecationWarning: `should_run_async` will not call `transform_cell` automatically in the future. Please pass the result to `transformed_cell` argument and any exception that happen during thetransform in `preprocessing_exc_tuple` in IPython 7.17 and above.\n",
            "  and should_run_async(code)\n"
          ]
        },
        {
          "output_type": "stream",
          "name": "stdout",
          "text": [
            "         antecedents                                        consequents  \\\n",
            "0             (2682)                                             (2708)   \n",
            "1             (2708)                                             (2682)   \n",
            "2             (2682)                                             (2742)   \n",
            "3             (2742)                                             (2682)   \n",
            "4             (2744)                                             (2682)   \n",
            "...              ...                                                ...   \n",
            "710269  (4124, 4068)  (4020, 4066, 2744, 4148, 4026, 4016, 3636, 365...   \n",
            "710270  (4124, 2708)  (4020, 4066, 2744, 4148, 4026, 4016, 3636, 365...   \n",
            "710271        (4020)  (2744, 4066, 4148, 4026, 4016, 4124, 3636, 365...   \n",
            "710272        (4016)  (4020, 2744, 4066, 4148, 4026, 4124, 3636, 365...   \n",
            "710273        (4124)  (4020, 2744, 4066, 4148, 4026, 4016, 3636, 365...   \n",
            "\n",
            "         support  confidence  \n",
            "0       0.692308    1.000000  \n",
            "1       0.692308    0.692308  \n",
            "2       0.581197    0.839506  \n",
            "3       0.581197    0.693878  \n",
            "4       0.623932    0.688679  \n",
            "...          ...         ...  \n",
            "710269  0.538462    0.600000  \n",
            "710270  0.538462    0.600000  \n",
            "710271  0.538462    0.759036  \n",
            "710272  0.538462    0.787500  \n",
            "710273  0.538462    0.600000  \n",
            "\n",
            "[710274 rows x 4 columns]\n"
          ]
        },
        {
          "output_type": "stream",
          "name": "stderr",
          "text": [
            "/usr/local/lib/python3.10/dist-packages/mlxtend/frequent_patterns/association_rules.py:182: RuntimeWarning: invalid value encountered in divide\n",
            "  cert_metric = np.where(certainty_denom == 0, 0, certainty_num / certainty_denom)\n"
          ]
        }
      ]
    },
    {
      "cell_type": "code",
      "source": [
        "rules_9['event_set'] = rules_9.apply(lambda row: row['antecedents'].union(row['consequents']), axis=1)\n",
        "rules_9['event_set_length'] = rules_9['event_set'].apply(len)\n",
        "\n",
        "rules_9['event_set'] = rules_9['event_set'].apply(frozenset)\n",
        "rules_9 = rules_9.drop_duplicates(subset=['event_set'])\n",
        "rules_9 = rules_9[rules_9['event_set'].apply(len) >= 9].copy()\n",
        "\n",
        "rules_9.reset_index(drop=True, inplace=True)\n",
        "\n",
        "print(rules_9[['event_set', 'event_set_length', 'confidence']])"
      ],
      "metadata": {
        "id": "cigR3YDDpt5-",
        "colab": {
          "base_uri": "https://localhost:8080/"
        },
        "outputId": "81d6a581-e7dd-4aa2-c8d3-713067e37be6"
      },
      "execution_count": null,
      "outputs": [
        {
          "output_type": "stream",
          "name": "stderr",
          "text": [
            "/usr/local/lib/python3.10/dist-packages/ipykernel/ipkernel.py:283: DeprecationWarning: `should_run_async` will not call `transform_cell` automatically in the future. Please pass the result to `transformed_cell` argument and any exception that happen during thetransform in `preprocessing_exc_tuple` in IPython 7.17 and above.\n",
            "  and should_run_async(code)\n"
          ]
        },
        {
          "output_type": "stream",
          "name": "stdout",
          "text": [
            "                                             event_set  event_set_length  \\\n",
            "0    (2744, 4066, 4120, 2742, 3636, 3658, 2682, 406...                 9   \n",
            "1    (4066, 4120, 2742, 4026, 3636, 3658, 2682, 406...                 9   \n",
            "2    (4066, 2742, 4148, 4026, 3636, 3658, 2682, 406...                 9   \n",
            "3    (4066, 4120, 4148, 2742, 4026, 3636, 3658, 268...                 9   \n",
            "4    (4120, 2742, 4148, 4026, 3636, 3658, 2682, 406...                 9   \n",
            "..                                                 ...               ...   \n",
            "261  (4020, 4066, 4396, 4148, 4026, 4016, 3636, 365...                10   \n",
            "262  (2744, 4066, 4120, 2742, 4148, 4026, 4124, 363...                10   \n",
            "263  (4020, 4066, 2744, 4148, 4026, 4016, 4124, 363...                10   \n",
            "264  (2744, 4066, 4120, 2742, 4148, 4026, 4124, 363...                11   \n",
            "265  (4020, 4066, 2744, 4148, 4026, 4016, 4124, 363...                11   \n",
            "\n",
            "     confidence  \n",
            "0           1.0  \n",
            "1           1.0  \n",
            "2           1.0  \n",
            "3           1.0  \n",
            "4           1.0  \n",
            "..          ...  \n",
            "261         1.0  \n",
            "262         1.0  \n",
            "263         1.0  \n",
            "264         1.0  \n",
            "265         1.0  \n",
            "\n",
            "[266 rows x 3 columns]\n"
          ]
        }
      ]
    },
    {
      "cell_type": "markdown",
      "source": [
        "# Type 4"
      ],
      "metadata": {
        "id": "qj0kL7W-1zEm"
      }
    },
    {
      "cell_type": "code",
      "source": [
        "incident_type = 4\n",
        "df_4 = filtered_df[filtered_df['incident_type'] == incident_type]\n",
        "\n",
        "filtered_event_sequences = df_4['events_sequence'].tolist()\n",
        "\n",
        "transactions = []\n",
        "for sequence in filtered_event_sequences:\n",
        "    transactions.append([str(event) for event in sequence])\n",
        "\n",
        "te = TransactionEncoder()\n",
        "te_ary = te.fit(transactions).transform(transactions)\n",
        "df_transactions = pd.DataFrame(te_ary, columns=te.columns_)"
      ],
      "metadata": {
        "id": "GqXWa9Hh4tsF",
        "colab": {
          "base_uri": "https://localhost:8080/"
        },
        "outputId": "4d97a073-edfc-4dae-a3d3-983da7ec033f"
      },
      "execution_count": null,
      "outputs": [
        {
          "output_type": "stream",
          "name": "stderr",
          "text": [
            "/usr/local/lib/python3.10/dist-packages/ipykernel/ipkernel.py:283: DeprecationWarning: `should_run_async` will not call `transform_cell` automatically in the future. Please pass the result to `transformed_cell` argument and any exception that happen during thetransform in `preprocessing_exc_tuple` in IPython 7.17 and above.\n",
            "  and should_run_async(code)\n"
          ]
        }
      ]
    },
    {
      "cell_type": "code",
      "source": [
        "frequent_itemsets = apriori(df_transactions, min_support=0.75, use_colnames=True)\n",
        "print(frequent_itemsets.shape)"
      ],
      "metadata": {
        "id": "81c1-vEK4yMq",
        "colab": {
          "base_uri": "https://localhost:8080/"
        },
        "outputId": "87b328fe-f827-4e7a-f656-5531e5d8f6b1"
      },
      "execution_count": null,
      "outputs": [
        {
          "output_type": "stream",
          "name": "stderr",
          "text": [
            "/usr/local/lib/python3.10/dist-packages/ipykernel/ipkernel.py:283: DeprecationWarning: `should_run_async` will not call `transform_cell` automatically in the future. Please pass the result to `transformed_cell` argument and any exception that happen during thetransform in `preprocessing_exc_tuple` in IPython 7.17 and above.\n",
            "  and should_run_async(code)\n"
          ]
        },
        {
          "output_type": "stream",
          "name": "stdout",
          "text": [
            "(10391, 2)\n"
          ]
        }
      ]
    },
    {
      "cell_type": "code",
      "source": [
        "rules_4 = association_rules(frequent_itemsets, metric=\"confidence\", min_threshold=0.8, num_itemsets=len(frequent_itemsets))\n",
        "\n",
        "rules_4['incident_type'] = incident_type\n",
        "\n",
        "print(rules_4[['antecedents', 'consequents','support', 'confidence']])\n"
      ],
      "metadata": {
        "id": "Xu-W6c-v40tE",
        "colab": {
          "base_uri": "https://localhost:8080/"
        },
        "outputId": "618e81e0-3269-468a-a0f9-e1cfd35ab1d5"
      },
      "execution_count": null,
      "outputs": [
        {
          "output_type": "stream",
          "name": "stderr",
          "text": [
            "/usr/local/lib/python3.10/dist-packages/ipykernel/ipkernel.py:283: DeprecationWarning: `should_run_async` will not call `transform_cell` automatically in the future. Please pass the result to `transformed_cell` argument and any exception that happen during thetransform in `preprocessing_exc_tuple` in IPython 7.17 and above.\n",
            "  and should_run_async(code)\n"
          ]
        },
        {
          "output_type": "stream",
          "name": "stdout",
          "text": [
            "       antecedents                                        consequents  \\\n",
            "0           (2708)                                             (2742)   \n",
            "1           (2742)                                             (2708)   \n",
            "2           (2744)                                             (2708)   \n",
            "3           (2708)                                             (2744)   \n",
            "4           (2852)                                             (2708)   \n",
            "...            ...                                                ...   \n",
            "650120      (4030)  (4110, 2852, 4140, 4148, 4026, 4152, 2854, 416...   \n",
            "650121      (4152)  (4110, 2852, 4140, 4148, 4026, 4030, 2854, 416...   \n",
            "650122      (2854)  (4110, 2852, 4140, 4148, 4026, 4030, 4152, 416...   \n",
            "650123      (4168)  (4110, 2852, 4140, 4148, 4026, 4030, 4152, 285...   \n",
            "650124      (4156)  (4110, 2852, 4140, 4148, 4026, 4030, 4152, 285...   \n",
            "\n",
            "         support  confidence  \n",
            "0       0.935065    0.935065  \n",
            "1       0.935065    1.000000  \n",
            "2       0.896104    1.000000  \n",
            "3       0.896104    0.896104  \n",
            "4       0.870130    1.000000  \n",
            "...          ...         ...  \n",
            "650120  0.779221    0.909091  \n",
            "650121  0.779221    0.983607  \n",
            "650122  0.779221    0.895522  \n",
            "650123  0.779221    0.909091  \n",
            "650124  0.779221    0.967742  \n",
            "\n",
            "[650125 rows x 4 columns]\n"
          ]
        },
        {
          "output_type": "stream",
          "name": "stderr",
          "text": [
            "/usr/local/lib/python3.10/dist-packages/mlxtend/frequent_patterns/association_rules.py:182: RuntimeWarning: invalid value encountered in divide\n",
            "  cert_metric = np.where(certainty_denom == 0, 0, certainty_num / certainty_denom)\n"
          ]
        }
      ]
    },
    {
      "cell_type": "code",
      "source": [
        "rules_4['event_set'] = rules_4.apply(lambda row: row['antecedents'].union(row['consequents']), axis=1)\n",
        "rules_4['event_set_length'] = rules_4['event_set'].apply(len)\n",
        "\n",
        "rules_4['event_set'] = rules_4['event_set'].apply(frozenset)\n",
        "rules_4 = rules_4.drop_duplicates(subset=['event_set'])\n",
        "rules_4 = rules_4[rules_4['event_set'].apply(len) >= 9].copy()\n",
        "\n",
        "rules_4.reset_index(drop=True, inplace=True)\n",
        "\n",
        "print(rules_4[['event_set', 'event_set_length', 'confidence']])"
      ],
      "metadata": {
        "id": "SX55ll7046m4",
        "colab": {
          "base_uri": "https://localhost:8080/"
        },
        "outputId": "34098794-138d-4e4f-f4d3-5752d0c6b25b"
      },
      "execution_count": null,
      "outputs": [
        {
          "output_type": "stream",
          "name": "stderr",
          "text": [
            "/usr/local/lib/python3.10/dist-packages/ipykernel/ipkernel.py:283: DeprecationWarning: `should_run_async` will not call `transform_cell` automatically in the future. Please pass the result to `transformed_cell` argument and any exception that happen during thetransform in `preprocessing_exc_tuple` in IPython 7.17 and above.\n",
            "  and should_run_async(code)\n"
          ]
        },
        {
          "output_type": "stream",
          "name": "stdout",
          "text": [
            "                                             event_set  event_set_length  \\\n",
            "0    (4110, 4120, 2852, 4140, 2742, 4026, 4030, 285...                 9   \n",
            "1    (4110, 4120, 2852, 2742, 4026, 4030, 2854, 416...                 9   \n",
            "2    (4110, 2852, 4140, 4148, 2742, 4026, 4030, 285...                 9   \n",
            "3    (4110, 2852, 4140, 2742, 4026, 4030, 2854, 416...                 9   \n",
            "4    (4110, 2852, 4148, 2742, 4026, 4030, 2854, 416...                 9   \n",
            "..                                                 ...               ...   \n",
            "176  (4110, 4140, 4148, 4026, 4030, 4152, 2854, 416...                10   \n",
            "177  (4120, 2852, 4140, 4148, 2742, 4026, 4152, 285...                10   \n",
            "178  (4110, 2852, 4140, 4148, 4026, 4030, 4152, 285...                10   \n",
            "179  (4120, 2852, 4140, 4148, 2742, 4026, 4152, 285...                11   \n",
            "180  (4110, 2852, 4140, 4148, 4026, 4030, 4152, 285...                11   \n",
            "\n",
            "     confidence  \n",
            "0           1.0  \n",
            "1           1.0  \n",
            "2           1.0  \n",
            "3           1.0  \n",
            "4           1.0  \n",
            "..          ...  \n",
            "176         1.0  \n",
            "177         1.0  \n",
            "178         1.0  \n",
            "179         1.0  \n",
            "180         1.0  \n",
            "\n",
            "[181 rows x 3 columns]\n"
          ]
        }
      ]
    },
    {
      "cell_type": "markdown",
      "source": [
        "# Combine"
      ],
      "metadata": {
        "id": "8UPtQWHe_P6D"
      }
    },
    {
      "cell_type": "code",
      "source": [
        "rules = pd.concat([rules_13, rules_99, rules_14, rules_2, rules_9, rules_4], ignore_index=True)\n"
      ],
      "metadata": {
        "id": "Tk2Kbe2x_ReS",
        "colab": {
          "base_uri": "https://localhost:8080/"
        },
        "outputId": "a067ced9-56f6-4997-b132-a37657560c0d"
      },
      "execution_count": null,
      "outputs": [
        {
          "output_type": "stream",
          "name": "stderr",
          "text": [
            "/usr/local/lib/python3.10/dist-packages/ipykernel/ipkernel.py:283: DeprecationWarning: `should_run_async` will not call `transform_cell` automatically in the future. Please pass the result to `transformed_cell` argument and any exception that happen during thetransform in `preprocessing_exc_tuple` in IPython 7.17 and above.\n",
            "  and should_run_async(code)\n"
          ]
        }
      ]
    },
    {
      "cell_type": "code",
      "source": [
        "print(rules[['event_set','incident_type', 'confidence']])"
      ],
      "metadata": {
        "id": "cHp1DG35C8Ov",
        "colab": {
          "base_uri": "https://localhost:8080/"
        },
        "outputId": "eeef3962-f8c5-41a3-e46a-011e234a7f35"
      },
      "execution_count": null,
      "outputs": [
        {
          "output_type": "stream",
          "name": "stdout",
          "text": [
            "                                               event_set  incident_type  \\\n",
            "0      (4066, 4120, 2742, 4148, 4026, 2658, 3254, 406...             13   \n",
            "1      (4066, 4120, 2742, 4026, 2658, 3636, 3658, 406...             13   \n",
            "2      (2744, 4066, 2742, 4026, 3636, 3658, 2682, 406...             13   \n",
            "3      (2744, 4066, 4120, 2742, 4026, 3636, 3658, 268...             13   \n",
            "4      (2744, 4066, 2742, 4026, 3636, 4124, 3658, 268...             13   \n",
            "...                                                  ...            ...   \n",
            "23262  (4110, 4140, 4148, 4026, 4030, 4152, 2854, 416...              4   \n",
            "23263  (4120, 2852, 4140, 4148, 2742, 4026, 4152, 285...              4   \n",
            "23264  (4110, 2852, 4140, 4148, 4026, 4030, 4152, 285...              4   \n",
            "23265  (4120, 2852, 4140, 4148, 2742, 4026, 4152, 285...              4   \n",
            "23266  (4110, 2852, 4140, 4148, 4026, 4030, 4152, 285...              4   \n",
            "\n",
            "       confidence  \n",
            "0             1.0  \n",
            "1             1.0  \n",
            "2             1.0  \n",
            "3             1.0  \n",
            "4             1.0  \n",
            "...           ...  \n",
            "23262         1.0  \n",
            "23263         1.0  \n",
            "23264         1.0  \n",
            "23265         1.0  \n",
            "23266         1.0  \n",
            "\n",
            "[23267 rows x 3 columns]\n"
          ]
        },
        {
          "output_type": "stream",
          "name": "stderr",
          "text": [
            "/usr/local/lib/python3.10/dist-packages/ipykernel/ipkernel.py:283: DeprecationWarning: `should_run_async` will not call `transform_cell` automatically in the future. Please pass the result to `transformed_cell` argument and any exception that happen during thetransform in `preprocessing_exc_tuple` in IPython 7.17 and above.\n",
            "  and should_run_async(code)\n"
          ]
        }
      ]
    },
    {
      "cell_type": "code",
      "source": [
        "print(len(rules['event_set'].unique()))"
      ],
      "metadata": {
        "id": "rfVG1FaV_Uqm",
        "colab": {
          "base_uri": "https://localhost:8080/"
        },
        "outputId": "478b1458-b19d-46be-8029-c8778f45eba7"
      },
      "execution_count": null,
      "outputs": [
        {
          "output_type": "stream",
          "name": "stdout",
          "text": [
            "22679\n"
          ]
        },
        {
          "output_type": "stream",
          "name": "stderr",
          "text": [
            "/usr/local/lib/python3.10/dist-packages/ipykernel/ipkernel.py:283: DeprecationWarning: `should_run_async` will not call `transform_cell` automatically in the future. Please pass the result to `transformed_cell` argument and any exception that happen during thetransform in `preprocessing_exc_tuple` in IPython 7.17 and above.\n",
            "  and should_run_async(code)\n"
          ]
        }
      ]
    }
  ],
  "metadata": {
    "colab": {
      "provenance": [],
      "gpuType": "V28",
      "toc_visible": true
    },
    "kernelspec": {
      "display_name": "Python 3",
      "name": "python3"
    },
    "language_info": {
      "codemirror_mode": {
        "name": "ipython",
        "version": 3
      },
      "file_extension": ".py",
      "mimetype": "text/x-python",
      "name": "python",
      "nbconvert_exporter": "python",
      "pygments_lexer": "ipython3",
      "version": "3.8.10"
    },
    "accelerator": "TPU"
  },
  "nbformat": 4,
  "nbformat_minor": 0
}