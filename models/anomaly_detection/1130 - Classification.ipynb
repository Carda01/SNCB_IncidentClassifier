{
 "cells": [
  {
   "cell_type": "code",
   "execution_count": 25,
   "metadata": {},
   "outputs": [],
   "source": [
    "import pandas as pd\n",
    "import numpy as np\n",
    "import os\n",
    "import sys"
   ]
  },
  {
   "cell_type": "code",
   "execution_count": 32,
   "metadata": {},
   "outputs": [
    {
     "data": {
      "text/plain": [
       "'/Users/ngochoang/Library/CloudStorage/GoogleDrive-nhungoc1508@gmail.com/My Drive/Graduate/Semester 1 (Fall 2024)/INFO-H423 Data Mining/Project/SNCB_IncidentClassifier/models/anomaly_detection/results/20241128_081201_w150_l10'"
      ]
     },
     "execution_count": 32,
     "metadata": {},
     "output_type": "execute_result"
    }
   ],
   "source": [
    "path = '/Users/ngochoang/Library/CloudStorage/GoogleDrive-nhungoc1508@gmail.com/My Drive/Graduate/Semester 1 (Fall 2024)/INFO-H423 Data Mining/Project/SNCB_IncidentClassifier/models/anomaly_detection/results/20241128_081201_w150_l10'\n",
    "os.chdir(path)\n",
    "os.getcwd()"
   ]
  },
  {
   "cell_type": "code",
   "execution_count": 33,
   "metadata": {},
   "outputs": [],
   "source": [
    "module_path = os.path.abspath(os.path.join('../..'))\n",
    "if module_path not in sys.path:\n",
    "    sys.path.append(module_path)"
   ]
  },
  {
   "cell_type": "code",
   "execution_count": 34,
   "metadata": {},
   "outputs": [],
   "source": [
    "import utils"
   ]
  },
  {
   "cell_type": "code",
   "execution_count": 35,
   "metadata": {},
   "outputs": [
    {
     "data": {
      "text/html": [
       "<div>\n",
       "<style scoped>\n",
       "    .dataframe tbody tr th:only-of-type {\n",
       "        vertical-align: middle;\n",
       "    }\n",
       "\n",
       "    .dataframe tbody tr th {\n",
       "        vertical-align: top;\n",
       "    }\n",
       "\n",
       "    .dataframe thead th {\n",
       "        text-align: right;\n",
       "    }\n",
       "</style>\n",
       "<table border=\"1\" class=\"dataframe\">\n",
       "  <thead>\n",
       "    <tr style=\"text-align: right;\">\n",
       "      <th></th>\n",
       "      <th>t00</th>\n",
       "      <th>t01</th>\n",
       "      <th>t02</th>\n",
       "      <th>t03</th>\n",
       "      <th>t04</th>\n",
       "      <th>t05</th>\n",
       "      <th>t06</th>\n",
       "      <th>t07</th>\n",
       "      <th>t08</th>\n",
       "      <th>t09</th>\n",
       "      <th>...</th>\n",
       "      <th>t145</th>\n",
       "      <th>t146</th>\n",
       "      <th>t147</th>\n",
       "      <th>t148</th>\n",
       "      <th>t149</th>\n",
       "      <th>anom_count</th>\n",
       "      <th>incident_id</th>\n",
       "      <th>num</th>\n",
       "      <th>class</th>\n",
       "      <th>mse</th>\n",
       "    </tr>\n",
       "  </thead>\n",
       "  <tbody>\n",
       "    <tr>\n",
       "      <th>0</th>\n",
       "      <td>2744</td>\n",
       "      <td>4004</td>\n",
       "      <td>2852</td>\n",
       "      <td>4110</td>\n",
       "      <td>2854</td>\n",
       "      <td>4396</td>\n",
       "      <td>1132</td>\n",
       "      <td>4140</td>\n",
       "      <td>4148</td>\n",
       "      <td>2708</td>\n",
       "      <td>...</td>\n",
       "      <td>4090</td>\n",
       "      <td>3236</td>\n",
       "      <td>2982</td>\n",
       "      <td>4100</td>\n",
       "      <td>2702</td>\n",
       "      <td>0</td>\n",
       "      <td>4432881</td>\n",
       "      <td>0</td>\n",
       "      <td>normal</td>\n",
       "      <td>45.528598</td>\n",
       "    </tr>\n",
       "    <tr>\n",
       "      <th>1</th>\n",
       "      <td>4026</td>\n",
       "      <td>1032</td>\n",
       "      <td>1082</td>\n",
       "      <td>4152</td>\n",
       "      <td>4030</td>\n",
       "      <td>4018</td>\n",
       "      <td>4168</td>\n",
       "      <td>4156</td>\n",
       "      <td>4394</td>\n",
       "      <td>152</td>\n",
       "      <td>...</td>\n",
       "      <td>2744</td>\n",
       "      <td>4004</td>\n",
       "      <td>2852</td>\n",
       "      <td>4110</td>\n",
       "      <td>2854</td>\n",
       "      <td>0</td>\n",
       "      <td>4432881</td>\n",
       "      <td>1</td>\n",
       "      <td>normal</td>\n",
       "      <td>46.252181</td>\n",
       "    </tr>\n",
       "    <tr>\n",
       "      <th>2</th>\n",
       "      <td>2742</td>\n",
       "      <td>4410</td>\n",
       "      <td>4406</td>\n",
       "      <td>4068</td>\n",
       "      <td>4408</td>\n",
       "      <td>4412</td>\n",
       "      <td>4066</td>\n",
       "      <td>2744</td>\n",
       "      <td>4026</td>\n",
       "      <td>4148</td>\n",
       "      <td>...</td>\n",
       "      <td>4018</td>\n",
       "      <td>4140</td>\n",
       "      <td>4140</td>\n",
       "      <td>2552</td>\n",
       "      <td>4168</td>\n",
       "      <td>0</td>\n",
       "      <td>4432881</td>\n",
       "      <td>2</td>\n",
       "      <td>normal</td>\n",
       "      <td>46.606699</td>\n",
       "    </tr>\n",
       "    <tr>\n",
       "      <th>3</th>\n",
       "      <td>4168</td>\n",
       "      <td>4140</td>\n",
       "      <td>3986</td>\n",
       "      <td>2744</td>\n",
       "      <td>4002</td>\n",
       "      <td>2852</td>\n",
       "      <td>4110</td>\n",
       "      <td>2854</td>\n",
       "      <td>4148</td>\n",
       "      <td>2708</td>\n",
       "      <td>...</td>\n",
       "      <td>4168</td>\n",
       "      <td>4156</td>\n",
       "      <td>2708</td>\n",
       "      <td>2970</td>\n",
       "      <td>4082</td>\n",
       "      <td>0</td>\n",
       "      <td>4432881</td>\n",
       "      <td>3</td>\n",
       "      <td>normal</td>\n",
       "      <td>46.985108</td>\n",
       "    </tr>\n",
       "    <tr>\n",
       "      <th>4</th>\n",
       "      <td>4026</td>\n",
       "      <td>4140</td>\n",
       "      <td>4152</td>\n",
       "      <td>4030</td>\n",
       "      <td>4018</td>\n",
       "      <td>4140</td>\n",
       "      <td>4168</td>\n",
       "      <td>4156</td>\n",
       "      <td>2852</td>\n",
       "      <td>2854</td>\n",
       "      <td>...</td>\n",
       "      <td>3236</td>\n",
       "      <td>2982</td>\n",
       "      <td>4066</td>\n",
       "      <td>2708</td>\n",
       "      <td>2708</td>\n",
       "      <td>0</td>\n",
       "      <td>4432881</td>\n",
       "      <td>4</td>\n",
       "      <td>normal</td>\n",
       "      <td>46.674887</td>\n",
       "    </tr>\n",
       "  </tbody>\n",
       "</table>\n",
       "<p>5 rows × 155 columns</p>\n",
       "</div>"
      ],
      "text/plain": [
       "    t00   t01   t02   t03   t04   t05   t06   t07   t08   t09  ...  t145  \\\n",
       "0  2744  4004  2852  4110  2854  4396  1132  4140  4148  2708  ...  4090   \n",
       "1  4026  1032  1082  4152  4030  4018  4168  4156  4394   152  ...  2744   \n",
       "2  2742  4410  4406  4068  4408  4412  4066  2744  4026  4148  ...  4018   \n",
       "3  4168  4140  3986  2744  4002  2852  4110  2854  4148  2708  ...  4168   \n",
       "4  4026  4140  4152  4030  4018  4140  4168  4156  2852  2854  ...  3236   \n",
       "\n",
       "   t146  t147  t148  t149  anom_count  incident_id  num   class        mse  \n",
       "0  3236  2982  4100  2702           0      4432881    0  normal  45.528598  \n",
       "1  4004  2852  4110  2854           0      4432881    1  normal  46.252181  \n",
       "2  4140  4140  2552  4168           0      4432881    2  normal  46.606699  \n",
       "3  4156  2708  2970  4082           0      4432881    3  normal  46.985108  \n",
       "4  2982  4066  2708  2708           0      4432881    4  normal  46.674887  \n",
       "\n",
       "[5 rows x 155 columns]"
      ]
     },
     "execution_count": 35,
     "metadata": {},
     "output_type": "execute_result"
    }
   ],
   "source": [
    "df_mse = pd.read_csv('df_mse.csv', index_col=0)\n",
    "df_mse.head()"
   ]
  },
  {
   "cell_type": "markdown",
   "metadata": {},
   "source": [
    "# Top sequences overall"
   ]
  },
  {
   "cell_type": "code",
   "execution_count": 36,
   "metadata": {},
   "outputs": [],
   "source": [
    "def get_top_seqs(perc):\n",
    "    top_seqs = []\n",
    "\n",
    "    for incident_id in df_mse['incident_id'].unique():\n",
    "        incident_df = df_mse[df_mse['incident_id'] == incident_id]\n",
    "        ranked_df = incident_df.sort_values(by='mse', ascending=False)\n",
    "        count = round(ranked_df.shape[0] * perc / 100)\n",
    "        zero_count = 0\n",
    "        if count == 0:\n",
    "            zero_count += 1\n",
    "            count = 1\n",
    "        top_seqs.append(ranked_df.iloc[:count])\n",
    "    \n",
    "    df_top_seqs = pd.concat(top_seqs)\n",
    "    print(f'Perc: {perc} -- {zero_count} incidents contribute 0 subsequence, instead top 1 subsequence was chosen')\n",
    "    return df_top_seqs"
   ]
  },
  {
   "cell_type": "code",
   "execution_count": 37,
   "metadata": {},
   "outputs": [
    {
     "data": {
      "text/plain": [
       "'/Users/ngochoang/Library/CloudStorage/GoogleDrive-nhungoc1508@gmail.com/My Drive/Graduate/Semester 1 (Fall 2024)/INFO-H423 Data Mining/Project/SNCB_IncidentClassifier/models/anomaly_detection/results/20241128_081201_w150_l10'"
      ]
     },
     "execution_count": 37,
     "metadata": {},
     "output_type": "execute_result"
    }
   ],
   "source": [
    "os.getcwd()"
   ]
  },
  {
   "cell_type": "code",
   "execution_count": 38,
   "metadata": {},
   "outputs": [
    {
     "name": "stdout",
     "output_type": "stream",
     "text": [
      "Perc: 10 -- 0 incidents contribute 0 subsequence, instead top 1 subsequence was chosen\n",
      "Percent: 10, number of sequences: 4295, unique ID count: (912,)\n",
      "Perc: 15 -- 0 incidents contribute 0 subsequence, instead top 1 subsequence was chosen\n",
      "Percent: 15, number of sequences: 6408, unique ID count: (912,)\n",
      "Perc: 20 -- 0 incidents contribute 0 subsequence, instead top 1 subsequence was chosen\n",
      "Percent: 20, number of sequences: 8537, unique ID count: (912,)\n",
      "Perc: 30 -- 0 incidents contribute 0 subsequence, instead top 1 subsequence was chosen\n",
      "Percent: 30, number of sequences: 12777, unique ID count: (912,)\n",
      "Perc: 50 -- 0 incidents contribute 0 subsequence, instead top 1 subsequence was chosen\n",
      "Percent: 50, number of sequences: 21291, unique ID count: (912,)\n"
     ]
    }
   ],
   "source": [
    "percs = [10, 15, 20, 30, 50]\n",
    "for perc in percs:\n",
    "    df_tmp = get_top_seqs(perc)\n",
    "    df_tmp.to_csv(f'../../classification/data_all/top_seq_{perc}.csv')\n",
    "    print(f'Percent: {perc}, number of sequences: {df_tmp.shape[0]}, unique ID count: {df_tmp[\"incident_id\"].unique().shape}')"
   ]
  },
  {
   "cell_type": "markdown",
   "metadata": {},
   "source": [
    "# Normal subsequences only"
   ]
  },
  {
   "cell_type": "code",
   "execution_count": 39,
   "metadata": {},
   "outputs": [],
   "source": [
    "def get_top_normal_seqs(perc):\n",
    "    top_seqs = []\n",
    "\n",
    "    for incident_id in df_mse['incident_id'].unique():\n",
    "        incident_df = df_mse[(df_mse['incident_id'] == incident_id) & (df_mse['class'] == 'normal')]\n",
    "        ranked_df = incident_df.sort_values(by='mse', ascending=False)\n",
    "        count = round(ranked_df.shape[0] * perc / 100)\n",
    "        zero_count = 0\n",
    "        if count == 0:\n",
    "            zero_count += 1\n",
    "            count = 1\n",
    "        top_seqs.append(ranked_df.iloc[:count])\n",
    "    \n",
    "    df_top_seqs = pd.concat(top_seqs)\n",
    "    print(f'Perc: {perc} -- {zero_count} incidents contribute 0 subsequence, instead top 1 subsequence was chosen')\n",
    "    return df_top_seqs"
   ]
  },
  {
   "cell_type": "code",
   "execution_count": 40,
   "metadata": {},
   "outputs": [
    {
     "name": "stdout",
     "output_type": "stream",
     "text": [
      "Perc: 10 -- 0 incidents contribute 0 subsequence, instead top 1 subsequence was chosen\n",
      "Percent: 10, number of sequences: 3002, unique ID count: (802,)\n",
      "Perc: 15 -- 0 incidents contribute 0 subsequence, instead top 1 subsequence was chosen\n",
      "Percent: 15, number of sequences: 4461, unique ID count: (802,)\n",
      "Perc: 20 -- 0 incidents contribute 0 subsequence, instead top 1 subsequence was chosen\n",
      "Percent: 20, number of sequences: 5920, unique ID count: (802,)\n",
      "Perc: 30 -- 0 incidents contribute 0 subsequence, instead top 1 subsequence was chosen\n",
      "Percent: 30, number of sequences: 8879, unique ID count: (802,)\n",
      "Perc: 50 -- 0 incidents contribute 0 subsequence, instead top 1 subsequence was chosen\n",
      "Percent: 50, number of sequences: 14767, unique ID count: (802,)\n"
     ]
    }
   ],
   "source": [
    "percs = [10, 15, 20, 30, 50]\n",
    "for perc in percs:\n",
    "    df_tmp = get_top_normal_seqs(perc)\n",
    "    df_tmp.to_csv(f'../../classification/data_norm/top_seq_{perc}.csv')\n",
    "    print(f'Percent: {perc}, number of sequences: {df_tmp.shape[0]}, unique ID count: {df_tmp[\"incident_id\"].unique().shape}')"
   ]
  },
  {
   "cell_type": "code",
   "execution_count": null,
   "metadata": {},
   "outputs": [],
   "source": []
  }
 ],
 "metadata": {
  "kernelspec": {
   "display_name": "base",
   "language": "python",
   "name": "python3"
  },
  "language_info": {
   "codemirror_mode": {
    "name": "ipython",
    "version": 3
   },
   "file_extension": ".py",
   "mimetype": "text/x-python",
   "name": "python",
   "nbconvert_exporter": "python",
   "pygments_lexer": "ipython3",
   "version": "3.8.13"
  }
 },
 "nbformat": 4,
 "nbformat_minor": 2
}
